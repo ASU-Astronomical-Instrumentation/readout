{
 "cells": [
  {
   "cell_type": "markdown",
   "id": "0dd49c17-349a-4708-8113-e8107463e72d",
   "metadata": {},
   "source": [
    "# Arizona State University - Dual Channel Readout Notebook\n",
    "```Version 1.0.0```\n",
    "\n",
    "```Author(s): Cody Roberson```"
   ]
  },
  {
   "cell_type": "code",
   "execution_count": 1,
   "id": "2056c46e-fc26-48c7-867c-7f64eaa6200e",
   "metadata": {},
   "outputs": [],
   "source": [
    "import kidpy3 as kp3"
   ]
  },
  {
   "cell_type": "code",
   "execution_count": 2,
   "id": "b9cabc91-00fe-4017-8108-3e7e654ed669",
   "metadata": {},
   "outputs": [],
   "source": [
    "import numpy as np\n",
    "import pandas as pd\n",
    "import matplotlib.pyplot as plt"
   ]
  },
  {
   "cell_type": "code",
   "execution_count": 3,
   "id": "424831c3-67e9-46c4-854d-96640ebeb929",
   "metadata": {},
   "outputs": [],
   "source": [
    "rfsoc1 = kp3.RFSOC(\"192.168.2.10\", rfsoc_name=\"rfsoc1\")\n",
    "rfsoc2 = kp3.RFSOC(\"192.168.2.10\", rfsoc_name=\"rfsoc2\") "
   ]
  },
  {
   "cell_type": "code",
   "execution_count": 4,
   "id": "42786dc9-a487-44b9-8150-071ba9ae0acb",
   "metadata": {},
   "outputs": [
    {
     "name": "stderr",
     "output_type": "stream",
     "text": [
      "2024-06-13 17:33:29,741|INFO|rfsoc.py|102|issue_command| Command Success\n",
      "2024-06-13 17:33:29,742|INFO|rfsoc.py|145|upload_bitstream| upload_bitstream success\n"
     ]
    }
   ],
   "source": [
    "rfsoc1.upload_bitstream(\"last_horizon_20231203-0038.bit\")"
   ]
  },
  {
   "cell_type": "code",
   "execution_count": 5,
   "id": "52d9e7e2-b5a7-4f3a-b3cf-91ce9523c0dc",
   "metadata": {},
   "outputs": [
    {
     "name": "stderr",
     "output_type": "stream",
     "text": [
      "2024-06-13 17:33:29,764|INFO|rfsoc.py|102|issue_command| Command Success\n",
      "2024-06-13 17:33:29,765|INFO|rfsoc.py|173|config_hardware| config_hardware success\n"
     ]
    }
   ],
   "source": [
    "rfsoc1.config_hardware(\"192.168.3.50\", \"192.168.3.51\", \"E8EA6A033BE8\")"
   ]
  },
  {
   "cell_type": "code",
   "execution_count": 6,
   "id": "ac1dfae2-0e75-4265-be07-c285d253d9d8",
   "metadata": {},
   "outputs": [
    {
     "name": "stderr",
     "output_type": "stream",
     "text": [
      "2024-06-13 17:33:31,381|INFO|rfsoc.py|102|issue_command| Command Success\n"
     ]
    }
   ],
   "source": [
    "freqs_up = -1.0*np.linspace(251.0e6,1.0e6,500)\n",
    "freqs_lw = 1.0*np.linspace(2.25e6,252.25e6,500)\n",
    "freqs = np.append(freqs_up,freqs_lw)\n",
    "rfsoc1.set_tone_list(1, freqs, np.ones(1000))"
   ]
  },
  {
   "cell_type": "code",
   "execution_count": 7,
   "id": "7e7d0bd5-d24c-4d5d-b167-5cb19ebab24a",
   "metadata": {},
   "outputs": [
    {
     "name": "stdout",
     "output_type": "stream",
     "text": [
      "Checking for baud 115200\n",
      "Checking for baud 9600\n",
      "Connected at baud 9600\n"
     ]
    }
   ],
   "source": [
    "valon = kp3.ifslice.Synthesizer(\"/dev/IFSLICE\")"
   ]
  },
  {
   "cell_type": "code",
   "execution_count": 8,
   "id": "23cbffbd-213d-4b66-b917-a5ccf49f7954",
   "metadata": {},
   "outputs": [
    {
     "name": "stdout",
     "output_type": "stream",
     "text": [
      "Found the device\n"
     ]
    }
   ],
   "source": [
    "atten = kp3.ifslice.IfSliceAtten()\n",
    "atten.connect()"
   ]
  },
  {
   "cell_type": "code",
   "execution_count": 9,
   "id": "5ef73443-ef26-457a-91dd-8f0fb586fda7",
   "metadata": {},
   "outputs": [
    {
     "data": {
      "text/plain": [
       "True"
      ]
     },
     "execution_count": 9,
     "metadata": {},
     "output_type": "execute_result"
    }
   ],
   "source": [
    "atten.set_atten(1, 0.0) # RF OUT"
   ]
  },
  {
   "cell_type": "code",
   "execution_count": 10,
   "id": "16e9b192-7a4b-4163-a101-8b71509963bd",
   "metadata": {},
   "outputs": [
    {
     "data": {
      "text/plain": [
       "True"
      ]
     },
     "execution_count": 10,
     "metadata": {},
     "output_type": "execute_result"
    }
   ],
   "source": [
    "atten.set_atten(2, 5) # RF IN"
   ]
  },
  {
   "cell_type": "code",
   "execution_count": 11,
   "id": "1d38e168-3300-4dfa-8494-beb0b277408b",
   "metadata": {},
   "outputs": [],
   "source": [
    "from kidpy3.measurements import *"
   ]
  },
  {
   "cell_type": "code",
   "execution_count": 12,
   "id": "fa5211d7-5546-4cb1-87a8-54fc62712e73",
   "metadata": {},
   "outputs": [],
   "source": [
    "from kidpy3.udp2 import udpcap"
   ]
  },
  {
   "cell_type": "markdown",
   "id": "6a30aa1b-f265-4bfe-8431-ecc06e40f153",
   "metadata": {},
   "source": [
    "<div class='alert alert-info'>Quick and Dirty backend for grabbing data for the purposes of sweeps</div>"
   ]
  },
  {
   "cell_type": "code",
   "execution_count": 13,
   "id": "5214d5b4-968b-4394-a682-445af20d3b7a",
   "metadata": {},
   "outputs": [
    {
     "name": "stdout",
     "output_type": "stream",
     "text": [
      "192.168.3.40\n",
      "4096\n"
     ]
    }
   ],
   "source": [
    "udp = udpcap()"
   ]
  },
  {
   "cell_type": "code",
   "execution_count": 14,
   "id": "baccf512-a83b-457f-aa03-138ae909bc68",
   "metadata": {
    "editable": true,
    "slideshow": {
     "slide_type": ""
    },
    "tags": []
   },
   "outputs": [
    {
     "name": "stderr",
     "output_type": "stream",
     "text": [
      "2024-06-13 17:33:33,650|INFO|measurements.py|37|sweep| tone diff=0.501002004008025\n",
      "2024-06-13 17:33:33,650|INFO|measurements.py|43|sweep| lo step size=0.001\n",
      "2024-06-13 17:33:33,651|INFO|measurements.py|49|sweep| len flos (500,)\n"
     ]
    },
    {
     "name": "stdout",
     "output_type": "stream",
     "text": [
      "b'F 3549.75 MHz; // Act 3549.75 MHz\\r\\n'\n",
      ".b'F 3549.751 MHz; // Act 3549.750914 MHz\\r\\n'\n",
      ".b'F 3549.752 MHz; // Act 3549.752 MHz\\r\\n'\n",
      ".b'F 3549.753 MHz; // Act 3549.753356 MHz\\r\\n'\n",
      ".b'F 3549.754 MHz; // Act 3549.753356 MHz\\r\\n'\n",
      ".b'F 3549.755 MHz; // Act 3549.755 MHz\\r\\n'\n",
      ".b'F 3549.756 MHz; // Act 3549.756 MHz\\r\\n'\n",
      ".b'F 3549.757 MHz; // Act 3549.755798 MHz\\r\\n'\n",
      ".b'F 3549.758 MHz; // Act 3549.75824 MHz\\r\\n'\n",
      ".b'F 3549.759 MHz; // Act 3549.75824 MHz\\r\\n'\n",
      ".b'F 3549.76 MHz; // Act 3549.76 MHz\\r\\n'\n",
      ".b'F 3549.761 MHz; // Act 3549.760682 MHz\\r\\n'\n",
      ".b'F 3549.762 MHz; // Act 3549.763124 MHz\\r\\n'\n",
      ".b'F 3549.763 MHz; // Act 3549.763124 MHz\\r\\n'\n",
      ".b'F 3549.764 MHz; // Act 3549.764 MHz\\r\\n'\n",
      ".b'F 3549.765 MHz; // Act 3549.765 MHz\\r\\n'\n",
      ".b'F 3549.766 MHz; // Act 3549.765566 MHz\\r\\n'\n",
      ".b'F 3549.767 MHz; // Act 3549.768008 MHz\\r\\n'\n",
      ".b'F 3549.768 MHz; // Act 3549.768 MHz\\r\\n'\n",
      ".b'F 3549.769 MHz; // Act 3549.768008 MHz\\r\\n'\n",
      ".b'F 3549.77 MHz; // Act 3549.77 MHz\\r\\n'\n",
      ".b'F 3549.771 MHz; // Act 3549.77045 MHz\\r\\n'\n",
      ".b'F 3549.772 MHz; // Act 3549.772 MHz\\r\\n'\n",
      ".b'F 3549.773 MHz; // Act 3549.772892 MHz\\r\\n'\n",
      ".b'F 3549.774 MHz; // Act 3549.772892 MHz\\r\\n'\n",
      ".b'F 3549.775 MHz; // Act 3549.775 MHz\\r\\n'\n",
      ".b'F 3549.776 MHz; // Act 3549.776 MHz\\r\\n'\n",
      ".b'F 3549.777 MHz; // Act 3549.777776 MHz\\r\\n'\n",
      ".b'F 3549.778 MHz; // Act 3549.777776 MHz\\r\\n'\n",
      ".b'F 3549.779 MHz; // Act 3549.780218 MHz\\r\\n'\n",
      ".b'F 3549.78 MHz; // Act 3549.78 MHz\\r\\n'\n",
      ".b'F 3549.781 MHz; // Act 3549.780218 MHz\\r\\n'\n",
      ".b'F 3549.782 MHz; // Act 3549.78266 MHz\\r\\n'\n",
      ".b'F 3549.783 MHz; // Act 3549.78266 MHz\\r\\n'\n",
      ".b'F 3549.784 MHz; // Act 3549.784 MHz\\r\\n'\n",
      ".b'F 3549.785 MHz; // Act 3549.785 MHz\\r\\n'\n",
      ".b'F 3549.786 MHz; // Act 3549.785102 MHz\\r\\n'\n",
      ".b'F 3549.787 MHz; // Act 3549.787544 MHz\\r\\n'\n",
      ".b'F 3549.788 MHz; // Act 3549.788 MHz\\r\\n'\n",
      ".b'F 3549.789 MHz; // Act 3549.789986 MHz\\r\\n'\n",
      ".b'F 3549.79 MHz; // Act 3549.79 MHz\\r\\n'\n",
      ".b'F 3549.791 MHz; // Act 3549.789986 MHz\\r\\n'\n",
      ".b'F 3549.792 MHz; // Act 3549.792 MHz\\r\\n'\n",
      ".b'F 3549.793 MHz; // Act 3549.792428 MHz\\r\\n'\n",
      ".b'F 3549.794 MHz; // Act 3549.79487 MHz\\r\\n'\n",
      ".b'F 3549.795 MHz; // Act 3549.795 MHz\\r\\n'\n",
      ".b'F 3549.796 MHz; // Act 3549.796 MHz\\r\\n'\n",
      ".b'F 3549.797 MHz; // Act 3549.797312 MHz\\r\\n'\n",
      ".b'F 3549.798 MHz; // Act 3549.797312 MHz\\r\\n'\n",
      ".b'F 3549.799 MHz; // Act 3549.799754 MHz\\r\\n'\n",
      ".b'F 3549.8 MHz; // Act 3549.8 MHz\\r\\n'\n",
      ".b'F 3549.801 MHz; // Act 3549.802196 MHz\\r\\n'\n",
      ".b'F 3549.802 MHz; // Act 3549.802196 MHz\\r\\n'\n",
      ".b'F 3549.803 MHz; // Act 3549.802196 MHz\\r\\n'\n",
      ".b'F 3549.804 MHz; // Act 3549.804 MHz\\r\\n'\n",
      ".b'F 3549.805 MHz; // Act 3549.805 MHz\\r\\n'\n",
      ".b'F 3549.806 MHz; // Act 3549.80708 MHz\\r\\n'\n",
      ".b'F 3549.807 MHz; // Act 3549.80708 MHz\\r\\n'\n",
      ".b'F 3549.808 MHz; // Act 3549.808 MHz\\r\\n'\n",
      ".b'F 3549.809 MHz; // Act 3549.809522 MHz\\r\\n'\n",
      ".b'F 3549.81 MHz; // Act 3549.81 MHz\\r\\n'\n",
      ".b'F 3549.811 MHz; // Act 3549.811964 MHz\\r\\n'\n",
      ".b'F 3549.812 MHz; // Act 3549.812 MHz\\r\\n'\n",
      ".b'F 3549.813 MHz; // Act 3549.811964 MHz\\r\\n'\n",
      ".b'F 3549.814 MHz; // Act 3549.814406 MHz\\r\\n'\n",
      ".b'F 3549.815 MHz; // Act 3549.815 MHz\\r\\n'\n",
      ".b'F 3549.816 MHz; // Act 3549.816 MHz\\r\\n'\n",
      ".b'F 3549.817 MHz; // Act 3549.816848 MHz\\r\\n'\n",
      ".b'F 3549.818 MHz; // Act 3549.816848 MHz\\r\\n'\n",
      ".b'F 3549.819 MHz; // Act 3549.81929 MHz\\r\\n'\n",
      ".b'F 3549.82 MHz; // Act 3549.82 MHz\\r\\n'\n",
      ".b'F 3549.821 MHz; // Act 3549.821732 MHz\\r\\n'\n",
      ".b'F 3549.822 MHz; // Act 3549.821732 MHz\\r\\n'\n",
      ".b'F 3549.823 MHz; // Act 3549.824174 MHz\\r\\n'\n",
      ".b'F 3549.824 MHz; // Act 3549.824 MHz\\r\\n'\n",
      ".b'F 3549.825 MHz; // Act 3549.825 MHz\\r\\n'\n",
      ".b'F 3549.826 MHz; // Act 3549.826616 MHz\\r\\n'\n",
      ".b'F 3549.827 MHz; // Act 3549.826616 MHz\\r\\n'\n",
      ".b'F 3549.828 MHz; // Act 3549.828 MHz\\r\\n'\n",
      ".b'F 3549.829 MHz; // Act 3549.829058 MHz\\r\\n'\n",
      ".b'F 3549.83 MHz; // Act 3549.83 MHz\\r\\n'\n",
      ".b'F 3549.831 MHz; // Act 3549.8315 MHz\\r\\n'\n",
      ".b'F 3549.832 MHz; // Act 3549.832 MHz\\r\\n'\n",
      ".b'F 3549.833 MHz; // Act 3549.833942 MHz\\r\\n'\n",
      ".b'F 3549.834 MHz; // Act 3549.833942 MHz\\r\\n'\n",
      ".b'F 3549.835 MHz; // Act 3549.835 MHz\\r\\n'\n",
      ".b'F 3549.836 MHz; // Act 3549.836 MHz\\r\\n'\n",
      ".b'F 3549.837 MHz; // Act 3549.836384 MHz\\r\\n'\n",
      ".b'F 3549.838 MHz; // Act 3549.838826 MHz\\r\\n'\n",
      ".b'F 3549.839 MHz; // Act 3549.838826 MHz\\r\\n'\n",
      ".b'F 3549.84 MHz; // Act 3549.84 MHz\\r\\n'\n",
      ".b'F 3549.841 MHz; // Act 3549.841268 MHz\\r\\n'\n",
      ".b'F 3549.842 MHz; // Act 3549.841268 MHz\\r\\n'\n",
      ".b'F 3549.843 MHz; // Act 3549.84371 MHz\\r\\n'\n",
      ".b'F 3549.844 MHz; // Act 3549.844 MHz\\r\\n'\n",
      ".b'F 3549.845 MHz; // Act 3549.845 MHz\\r\\n'\n",
      ".b'F 3549.846 MHz; // Act 3549.846152 MHz\\r\\n'\n",
      ".b'F 3549.847 MHz; // Act 3549.846152 MHz\\r\\n'\n",
      ".b'F 3549.848 MHz; // Act 3549.848 MHz\\r\\n'\n",
      ".b'F 3549.849 MHz; // Act 3549.848594 MHz\\r\\n'\n",
      ".b'F 3549.85 MHz; // Act 3549.85 MHz\\r\\n'\n",
      ".b'F 3549.851 MHz; // Act 3549.851036 MHz\\r\\n'\n",
      ".b'F 3549.852 MHz; // Act 3549.852 MHz\\r\\n'\n",
      ".b'F 3549.853 MHz; // Act 3549.853478 MHz\\r\\n'\n",
      ".b'F 3549.854 MHz; // Act 3549.853478 MHz\\r\\n'\n",
      ".b'F 3549.855 MHz; // Act 3549.855 MHz\\r\\n'\n",
      ".b'F 3549.856 MHz; // Act 3549.856 MHz\\r\\n'\n",
      ".b'F 3549.857 MHz; // Act 3549.85592 MHz\\r\\n'\n",
      ".b'F 3549.858 MHz; // Act 3549.858362 MHz\\r\\n'\n",
      ".b'F 3549.859 MHz; // Act 3549.858362 MHz\\r\\n'\n",
      ".b'F 3549.86 MHz; // Act 3549.86 MHz\\r\\n'\n",
      ".b'F 3549.861 MHz; // Act 3549.860804 MHz\\r\\n'\n",
      ".b'F 3549.862 MHz; // Act 3549.860804 MHz\\r\\n'\n",
      ".b'F 3549.863 MHz; // Act 3549.863246 MHz\\r\\n'\n",
      ".b'F 3549.864 MHz; // Act 3549.864 MHz\\r\\n'\n",
      ".b'F 3549.865 MHz; // Act 3549.865 MHz\\r\\n'\n",
      ".b'F 3549.866 MHz; // Act 3549.865688 MHz\\r\\n'\n",
      ".b'F 3549.867 MHz; // Act 3549.86813 MHz\\r\\n'\n",
      ".b'F 3549.868 MHz; // Act 3549.868 MHz\\r\\n'\n",
      ".b'F 3549.869 MHz; // Act 3549.86813 MHz\\r\\n'\n",
      ".b'F 3549.87 MHz; // Act 3549.87 MHz\\r\\n'\n",
      ".b'F 3549.871 MHz; // Act 3549.870572 MHz\\r\\n'\n",
      ".b'F 3549.872 MHz; // Act 3549.872 MHz\\r\\n'\n",
      ".b'F 3549.873 MHz; // Act 3549.873014 MHz\\r\\n'\n",
      ".b'F 3549.874 MHz; // Act 3549.873014 MHz\\r\\n'\n",
      ".b'F 3549.875 MHz; // Act 3549.875 MHz\\r\\n'\n",
      ".b'F 3549.876 MHz; // Act 3549.876 MHz\\r\\n'\n",
      ".b'F 3549.877 MHz; // Act 3549.877898 MHz\\r\\n'\n",
      ".b'F 3549.878 MHz; // Act 3549.877898 MHz\\r\\n'\n",
      ".b'F 3549.879 MHz; // Act 3549.877898 MHz\\r\\n'\n",
      ".b'F 3549.88 MHz; // Act 3549.88 MHz\\r\\n'\n",
      ".b'F 3549.881 MHz; // Act 3549.88034 MHz\\r\\n'\n",
      ".b'F 3549.882 MHz; // Act 3549.882782 MHz\\r\\n'\n",
      ".b'F 3549.883 MHz; // Act 3549.882782 MHz\\r\\n'\n",
      ".b'F 3549.884 MHz; // Act 3549.884 MHz\\r\\n'\n",
      ".b'F 3549.885 MHz; // Act 3549.885 MHz\\r\\n'\n",
      ".b'F 3549.886 MHz; // Act 3549.885224 MHz\\r\\n'\n",
      ".b'F 3549.887 MHz; // Act 3549.887666 MHz\\r\\n'\n",
      ".b'F 3549.888 MHz; // Act 3549.888 MHz\\r\\n'\n",
      ".b'F 3549.889 MHz; // Act 3549.890108 MHz\\r\\n'\n",
      ".b'F 3549.89 MHz; // Act 3549.89 MHz\\r\\n'\n",
      ".b'F 3549.891 MHz; // Act 3549.890108 MHz\\r\\n'\n",
      ".b'F 3549.892 MHz; // Act 3549.892 MHz\\r\\n'\n",
      ".b'F 3549.893 MHz; // Act 3549.89255 MHz\\r\\n'\n",
      ".b'F 3549.894 MHz; // Act 3549.894992 MHz\\r\\n'\n",
      ".b'F 3549.895 MHz; // Act 3549.895 MHz\\r\\n'\n",
      ".b'F 3549.896 MHz; // Act 3549.896 MHz\\r\\n'\n",
      ".b'F 3549.897 MHz; // Act 3549.897434 MHz\\r\\n'\n",
      ".b'F 3549.898 MHz; // Act 3549.897434 MHz\\r\\n'\n",
      ".b'F 3549.899 MHz; // Act 3549.899876 MHz\\r\\n'\n",
      ".b'F 3549.9 MHz; // Act 3549.9 MHz\\r\\n'\n",
      ".b'F 3549.901 MHz; // Act 3549.899876 MHz\\r\\n'\n",
      ".b'F 3549.902 MHz; // Act 3549.902318 MHz\\r\\n'\n",
      ".b'F 3549.903 MHz; // Act 3549.902318 MHz\\r\\n'\n",
      ".b'F 3549.904 MHz; // Act 3549.904 MHz\\r\\n'\n",
      ".b'F 3549.905 MHz; // Act 3549.905 MHz\\r\\n'\n",
      ".b'F 3549.906 MHz; // Act 3549.907202 MHz\\r\\n'\n",
      ".b'F 3549.907 MHz; // Act 3549.907202 MHz\\r\\n'\n",
      ".b'F 3549.908 MHz; // Act 3549.908 MHz\\r\\n'\n",
      ".b'F 3549.909 MHz; // Act 3549.909644 MHz\\r\\n'\n",
      ".b'F 3549.91 MHz; // Act 3549.91 MHz\\r\\n'\n",
      ".b'F 3549.911 MHz; // Act 3549.912086 MHz\\r\\n'\n",
      ".b'F 3549.912 MHz; // Act 3549.912 MHz\\r\\n'\n",
      ".b'F 3549.913 MHz; // Act 3549.912086 MHz\\r\\n'\n",
      ".b'F 3549.914 MHz; // Act 3549.914528 MHz\\r\\n'\n",
      ".b'F 3549.915 MHz; // Act 3549.915 MHz\\r\\n'\n",
      ".b'F 3549.916 MHz; // Act 3549.916 MHz\\r\\n'\n",
      ".b'F 3549.917 MHz; // Act 3549.91697 MHz\\r\\n'\n",
      ".b'F 3549.918 MHz; // Act 3549.91697 MHz\\r\\n'\n",
      ".b'F 3549.919 MHz; // Act 3549.919412 MHz\\r\\n'\n",
      ".b'F 3549.92 MHz; // Act 3549.92 MHz\\r\\n'\n",
      ".b'F 3549.921 MHz; // Act 3549.921854 MHz\\r\\n'\n",
      ".b'F 3549.922 MHz; // Act 3549.921854 MHz\\r\\n'\n",
      ".b'F 3549.923 MHz; // Act 3549.921854 MHz\\r\\n'\n",
      ".b'F 3549.924 MHz; // Act 3549.924 MHz\\r\\n'\n",
      ".b'F 3549.925 MHz; // Act 3549.925 MHz\\r\\n'\n",
      ".b'F 3549.926 MHz; // Act 3549.926738 MHz\\r\\n'\n",
      ".b'F 3549.927 MHz; // Act 3549.926738 MHz\\r\\n'\n",
      ".b'F 3549.928 MHz; // Act 3549.928 MHz\\r\\n'\n",
      ".b'F 3549.929 MHz; // Act 3549.92918 MHz\\r\\n'\n",
      ".b'F 3549.93 MHz; // Act 3549.93 MHz\\r\\n'\n",
      ".b'F 3549.931 MHz; // Act 3549.931622 MHz\\r\\n'\n",
      ".b'F 3549.932 MHz; // Act 3549.932 MHz\\r\\n'\n",
      ".b'F 3549.933 MHz; // Act 3549.934064 MHz\\r\\n'\n",
      ".b'F 3549.934 MHz; // Act 3549.934064 MHz\\r\\n'\n",
      ".b'F 3549.935 MHz; // Act 3549.935 MHz\\r\\n'\n",
      ".b'F 3549.936 MHz; // Act 3549.936 MHz\\r\\n'\n",
      ".b'F 3549.937 MHz; // Act 3549.936506 MHz\\r\\n'\n",
      ".b'F 3549.938 MHz; // Act 3549.938948 MHz\\r\\n'\n",
      ".b'F 3549.939 MHz; // Act 3549.938948 MHz\\r\\n'\n",
      ".b'F 3549.94 MHz; // Act 3549.94 MHz\\r\\n'\n",
      ".b'F 3549.941 MHz; // Act 3549.94139 MHz\\r\\n'\n",
      ".b'F 3549.942 MHz; // Act 3549.94139 MHz\\r\\n'\n",
      ".b'F 3549.943 MHz; // Act 3549.943832 MHz\\r\\n'\n",
      ".b'F 3549.944 MHz; // Act 3549.944 MHz\\r\\n'\n",
      ".b'F 3549.945 MHz; // Act 3549.945 MHz\\r\\n'\n",
      ".b'F 3549.946 MHz; // Act 3549.946274 MHz\\r\\n'\n",
      ".b'F 3549.947 MHz; // Act 3549.946274 MHz\\r\\n'\n",
      ".b'F 3549.948 MHz; // Act 3549.948 MHz\\r\\n'\n",
      ".b'F 3549.949 MHz; // Act 3549.948716 MHz\\r\\n'\n",
      ".b'F 3549.95 MHz; // Act 3549.95 MHz\\r\\n'\n",
      ".b'F 3549.951 MHz; // Act 3549.951158 MHz\\r\\n'\n",
      ".b'F 3549.952 MHz; // Act 3549.952 MHz\\r\\n'\n",
      ".b'F 3549.953 MHz; // Act 3549.9536 MHz\\r\\n'\n",
      ".b'F 3549.954 MHz; // Act 3549.9536 MHz\\r\\n'\n",
      ".b'F 3549.955 MHz; // Act 3549.955 MHz\\r\\n'\n",
      ".b'F 3549.956 MHz; // Act 3549.956 MHz\\r\\n'\n",
      ".b'F 3549.957 MHz; // Act 3549.956042 MHz\\r\\n'\n",
      ".b'F 3549.958 MHz; // Act 3549.958484 MHz\\r\\n'\n",
      ".b'F 3549.959 MHz; // Act 3549.958484 MHz\\r\\n'\n",
      ".b'F 3549.96 MHz; // Act 3549.96 MHz\\r\\n'\n",
      ".b'F 3549.961 MHz; // Act 3549.960926 MHz\\r\\n'\n",
      ".b'F 3549.962 MHz; // Act 3549.960926 MHz\\r\\n'\n",
      ".b'F 3549.963 MHz; // Act 3549.963368 MHz\\r\\n'\n",
      ".b'F 3549.964 MHz; // Act 3549.964 MHz\\r\\n'\n",
      ".b'F 3549.965 MHz; // Act 3549.965 MHz\\r\\n'\n",
      ".b'F 3549.966 MHz; // Act 3549.96581 MHz\\r\\n'\n",
      ".b'F 3549.967 MHz; // Act 3549.96581 MHz\\r\\n'\n",
      ".b'F 3549.968 MHz; // Act 3549.968 MHz\\r\\n'\n",
      ".b'F 3549.969 MHz; // Act 3549.968252 MHz\\r\\n'\n",
      ".b'F 3549.97 MHz; // Act 3549.97 MHz\\r\\n'\n",
      ".b'F 3549.971 MHz; // Act 3549.970694 MHz\\r\\n'\n",
      ".b'F 3549.972 MHz; // Act 3549.972 MHz\\r\\n'\n",
      ".b'F 3549.973 MHz; // Act 3549.973136 MHz\\r\\n'\n",
      ".b'F 3549.974 MHz; // Act 3549.973136 MHz\\r\\n'\n",
      ".b'F 3549.975 MHz; // Act 3549.975 MHz\\r\\n'\n",
      ".b'F 3549.976 MHz; // Act 3549.976 MHz\\r\\n'\n",
      ".b'F 3549.977 MHz; // Act 3549.97802 MHz\\r\\n'\n",
      ".b'F 3549.978 MHz; // Act 3549.97802 MHz\\r\\n'\n",
      ".b'F 3549.979 MHz; // Act 3549.97802 MHz\\r\\n'\n",
      ".b'F 3549.98 MHz; // Act 3549.98 MHz\\r\\n'\n",
      ".b'F 3549.981 MHz; // Act 3549.980462 MHz\\r\\n'\n",
      ".b'F 3549.982 MHz; // Act 3549.982904 MHz\\r\\n'\n",
      ".b'F 3549.983 MHz; // Act 3549.982904 MHz\\r\\n'\n",
      ".b'F 3549.984 MHz; // Act 3549.984 MHz\\r\\n'\n",
      ".b'F 3549.985 MHz; // Act 3549.985 MHz\\r\\n'\n",
      ".b'F 3549.986 MHz; // Act 3549.985346 MHz\\r\\n'\n",
      ".b'F 3549.987 MHz; // Act 3549.987788 MHz\\r\\n'\n",
      ".b'F 3549.988 MHz; // Act 3549.988 MHz\\r\\n'\n",
      ".b'F 3549.989 MHz; // Act 3549.987788 MHz\\r\\n'\n",
      ".b'F 3549.99 MHz; // Act 3549.99 MHz\\r\\n'\n",
      ".b'F 3549.991 MHz; // Act 3549.99023 MHz\\r\\n'\n",
      ".b'F 3549.992 MHz; // Act 3549.992 MHz\\r\\n'\n",
      ".b'F 3549.993 MHz; // Act 3549.992672 MHz\\r\\n'\n",
      ".b'F 3549.994 MHz; // Act 3549.995114 MHz\\r\\n'\n",
      ".b'F 3549.995 MHz; // Act 3549.995 MHz\\r\\n'\n",
      ".b'F 3549.996 MHz; // Act 3549.996 MHz\\r\\n'\n",
      ".b'F 3549.997 MHz; // Act 3549.997556 MHz\\r\\n'\n",
      ".b'F 3549.998 MHz; // Act 3549.997556 MHz\\r\\n'\n",
      ".b'F 3549.999 MHz; // Act 3550 MHz\\r\\n'\n",
      ".b'F 3550 MHz; // Act 3550 MHz\\r\\n'\n",
      ".b'F 3550.001 MHz; // Act 3550 MHz\\r\\n'\n",
      ".b'F 3550.002 MHz; // Act 3550.002442 MHz\\r\\n'\n",
      ".b'F 3550.003 MHz; // Act 3550.002442 MHz\\r\\n'\n",
      ".b'F 3550.004 MHz; // Act 3550.004 MHz\\r\\n'\n",
      ".b'F 3550.005 MHz; // Act 3550.005 MHz\\r\\n'\n",
      ".b'F 3550.006 MHz; // Act 3550.004884 MHz\\r\\n'\n",
      ".b'F 3550.007 MHz; // Act 3550.007326 MHz\\r\\n'\n",
      ".b'F 3550.008 MHz; // Act 3550.008 MHz\\r\\n'\n",
      ".b'F 3550.009 MHz; // Act 3550.009768 MHz\\r\\n'\n",
      ".b'F 3550.01 MHz; // Act 3550.01 MHz\\r\\n'\n",
      ".b'F 3550.011 MHz; // Act 3550.01221 MHz\\r\\n'\n",
      ".b'F 3550.012 MHz; // Act 3550.012 MHz\\r\\n'\n",
      ".b'F 3550.013 MHz; // Act 3550.01221 MHz\\r\\n'\n",
      ".b'F 3550.014 MHz; // Act 3550.014652 MHz\\r\\n'\n",
      ".b'F 3550.015 MHz; // Act 3550.015 MHz\\r\\n'\n",
      ".b'F 3550.016 MHz; // Act 3550.016 MHz\\r\\n'\n",
      ".b'F 3550.017 MHz; // Act 3550.017094 MHz\\r\\n'\n",
      ".b'F 3550.018 MHz; // Act 3550.017094 MHz\\r\\n'\n",
      ".b'F 3550.019 MHz; // Act 3550.019536 MHz\\r\\n'\n",
      ".b'F 3550.02 MHz; // Act 3550.02 MHz\\r\\n'\n",
      ".b'F 3550.021 MHz; // Act 3550.021978 MHz\\r\\n'\n",
      ".b'F 3550.022 MHz; // Act 3550.021978 MHz\\r\\n'\n",
      ".b'F 3550.023 MHz; // Act 3550.021978 MHz\\r\\n'\n",
      ".b'F 3550.024 MHz; // Act 3550.024 MHz\\r\\n'\n",
      ".b'F 3550.025 MHz; // Act 3550.025 MHz\\r\\n'\n",
      ".b'F 3550.026 MHz; // Act 3550.026862 MHz\\r\\n'\n",
      ".b'F 3550.027 MHz; // Act 3550.026862 MHz\\r\\n'\n",
      ".b'F 3550.028 MHz; // Act 3550.028 MHz\\r\\n'\n",
      ".b'F 3550.029 MHz; // Act 3550.029304 MHz\\r\\n'\n",
      ".b'F 3550.03 MHz; // Act 3550.03 MHz\\r\\n'\n",
      ".b'F 3550.031 MHz; // Act 3550.031746 MHz\\r\\n'\n",
      ".b'F 3550.032 MHz; // Act 3550.032 MHz\\r\\n'\n",
      ".b'F 3550.033 MHz; // Act 3550.034188 MHz\\r\\n'\n",
      ".b'F 3550.034 MHz; // Act 3550.034188 MHz\\r\\n'\n",
      ".b'F 3550.035 MHz; // Act 3550.035 MHz\\r\\n'\n",
      ".b'F 3550.036 MHz; // Act 3550.036 MHz\\r\\n'\n",
      ".b'F 3550.037 MHz; // Act 3550.03663 MHz\\r\\n'\n",
      ".b'F 3550.038 MHz; // Act 3550.039072 MHz\\r\\n'\n",
      ".b'F 3550.039 MHz; // Act 3550.039072 MHz\\r\\n'\n",
      ".b'F 3550.04 MHz; // Act 3550.04 MHz\\r\\n'\n",
      ".b'F 3550.041 MHz; // Act 3550.041514 MHz\\r\\n'\n",
      ".b'F 3550.042 MHz; // Act 3550.041514 MHz\\r\\n'\n",
      ".b'F 3550.043 MHz; // Act 3550.043956 MHz\\r\\n'\n",
      ".b'F 3550.044 MHz; // Act 3550.044 MHz\\r\\n'\n",
      ".b'F 3550.045 MHz; // Act 3550.045 MHz\\r\\n'\n",
      ".b'F 3550.046 MHz; // Act 3550.046398 MHz\\r\\n'\n",
      ".b'F 3550.047 MHz; // Act 3550.046398 MHz\\r\\n'\n",
      ".b'F 3550.048 MHz; // Act 3550.048 MHz\\r\\n'\n",
      ".b'F 3550.049 MHz; // Act 3550.04884 MHz\\r\\n'\n",
      ".b'F 3550.05 MHz; // Act 3550.05 MHz\\r\\n'\n",
      ".b'F 3550.051 MHz; // Act 3550.051282 MHz\\r\\n'\n",
      ".b'F 3550.052 MHz; // Act 3550.052 MHz\\r\\n'\n",
      ".b'F 3550.053 MHz; // Act 3550.053724 MHz\\r\\n'\n",
      ".b'F 3550.054 MHz; // Act 3550.053724 MHz\\r\\n'\n",
      ".b'F 3550.055 MHz; // Act 3550.055 MHz\\r\\n'\n",
      ".b'F 3550.056 MHz; // Act 3550.056 MHz\\r\\n'\n",
      ".b'F 3550.057 MHz; // Act 3550.056166 MHz\\r\\n'\n",
      ".b'F 3550.058 MHz; // Act 3550.058608 MHz\\r\\n'\n",
      ".b'F 3550.059 MHz; // Act 3550.058608 MHz\\r\\n'\n",
      ".b'F 3550.06 MHz; // Act 3550.06 MHz\\r\\n'\n",
      ".b'F 3550.061 MHz; // Act 3550.06105 MHz\\r\\n'\n",
      ".b'F 3550.062 MHz; // Act 3550.06105 MHz\\r\\n'\n",
      ".b'F 3550.063 MHz; // Act 3550.063492 MHz\\r\\n'\n",
      ".b'F 3550.064 MHz; // Act 3550.064 MHz\\r\\n'\n",
      ".b'F 3550.065 MHz; // Act 3550.065 MHz\\r\\n'\n",
      ".b'F 3550.066 MHz; // Act 3550.065934 MHz\\r\\n'\n",
      ".b'F 3550.067 MHz; // Act 3550.065934 MHz\\r\\n'\n",
      ".b'F 3550.068 MHz; // Act 3550.068 MHz\\r\\n'\n",
      ".b'F 3550.069 MHz; // Act 3550.068376 MHz\\r\\n'\n",
      ".b'F 3550.07 MHz; // Act 3550.07 MHz\\r\\n'\n",
      ".b'F 3550.071 MHz; // Act 3550.070818 MHz\\r\\n'\n",
      ".b'F 3550.072 MHz; // Act 3550.072 MHz\\r\\n'\n",
      ".b'F 3550.073 MHz; // Act 3550.07326 MHz\\r\\n'\n",
      ".b'F 3550.074 MHz; // Act 3550.07326 MHz\\r\\n'\n",
      ".b'F 3550.075 MHz; // Act 3550.075 MHz\\r\\n'\n",
      ".b'F 3550.076 MHz; // Act 3550.076 MHz\\r\\n'\n",
      ".b'F 3550.077 MHz; // Act 3550.078144 MHz\\r\\n'\n",
      ".b'F 3550.078 MHz; // Act 3550.078144 MHz\\r\\n'\n",
      ".b'F 3550.079 MHz; // Act 3550.078144 MHz\\r\\n'\n",
      ".b'F 3550.08 MHz; // Act 3550.08 MHz\\r\\n'\n",
      ".b'F 3550.081 MHz; // Act 3550.080586 MHz\\r\\n'\n",
      ".b'F 3550.082 MHz; // Act 3550.083028 MHz\\r\\n'\n",
      ".b'F 3550.083 MHz; // Act 3550.083028 MHz\\r\\n'\n",
      ".b'F 3550.084 MHz; // Act 3550.084 MHz\\r\\n'\n",
      ".b'F 3550.085 MHz; // Act 3550.085 MHz\\r\\n'\n",
      ".b'F 3550.086 MHz; // Act 3550.08547 MHz\\r\\n'\n",
      ".b'F 3550.087 MHz; // Act 3550.087912 MHz\\r\\n'\n",
      ".b'F 3550.088 MHz; // Act 3550.088 MHz\\r\\n'\n",
      ".b'F 3550.089 MHz; // Act 3550.087912 MHz\\r\\n'\n",
      ".b'F 3550.09 MHz; // Act 3550.09 MHz\\r\\n'\n",
      ".b'F 3550.091 MHz; // Act 3550.090354 MHz\\r\\n'\n",
      ".b'F 3550.092 MHz; // Act 3550.092 MHz\\r\\n'\n",
      ".b'F 3550.093 MHz; // Act 3550.092796 MHz\\r\\n'\n",
      ".b'F 3550.094 MHz; // Act 3550.092796 MHz\\r\\n'\n",
      ".b'F 3550.095 MHz; // Act 3550.095 MHz\\r\\n'\n",
      ".b'F 3550.096 MHz; // Act 3550.096 MHz\\r\\n'\n",
      ".b'F 3550.097 MHz; // Act 3550.09768 MHz\\r\\n'\n",
      ".b'F 3550.098 MHz; // Act 3550.09768 MHz\\r\\n'\n",
      ".b'F 3550.099 MHz; // Act 3550.100122 MHz\\r\\n'\n",
      ".b'F 3550.1 MHz; // Act 3550.1 MHz\\r\\n'\n",
      ".b'F 3550.101 MHz; // Act 3550.100122 MHz\\r\\n'\n",
      ".b'F 3550.102 MHz; // Act 3550.102564 MHz\\r\\n'\n",
      ".b'F 3550.103 MHz; // Act 3550.102564 MHz\\r\\n'\n",
      ".b'F 3550.104 MHz; // Act 3550.104 MHz\\r\\n'\n",
      ".b'F 3550.105 MHz; // Act 3550.105 MHz\\r\\n'\n",
      ".b'F 3550.106 MHz; // Act 3550.105006 MHz\\r\\n'\n",
      ".b'F 3550.107 MHz; // Act 3550.107448 MHz\\r\\n'\n",
      ".b'F 3550.108 MHz; // Act 3550.108 MHz\\r\\n'\n",
      ".b'F 3550.109 MHz; // Act 3550.10989 MHz\\r\\n'\n",
      ".b'F 3550.11 MHz; // Act 3550.11 MHz\\r\\n'\n",
      ".b'F 3550.111 MHz; // Act 3550.10989 MHz\\r\\n'\n",
      ".b'F 3550.112 MHz; // Act 3550.112 MHz\\r\\n'\n",
      ".b'F 3550.113 MHz; // Act 3550.112332 MHz\\r\\n'\n",
      ".b'F 3550.114 MHz; // Act 3550.114774 MHz\\r\\n'\n",
      ".b'F 3550.115 MHz; // Act 3550.115 MHz\\r\\n'\n",
      ".b'F 3550.116 MHz; // Act 3550.116 MHz\\r\\n'\n",
      ".b'F 3550.117 MHz; // Act 3550.117216 MHz\\r\\n'\n",
      ".b'F 3550.118 MHz; // Act 3550.117216 MHz\\r\\n'\n",
      ".b'F 3550.119 MHz; // Act 3550.119658 MHz\\r\\n'\n",
      ".b'F 3550.12 MHz; // Act 3550.12 MHz\\r\\n'\n",
      ".b'F 3550.121 MHz; // Act 3550.1221 MHz\\r\\n'\n",
      ".b'F 3550.122 MHz; // Act 3550.1221 MHz\\r\\n'\n",
      ".b'F 3550.123 MHz; // Act 3550.1221 MHz\\r\\n'\n",
      ".b'F 3550.124 MHz; // Act 3550.124 MHz\\r\\n'\n",
      ".b'F 3550.125 MHz; // Act 3550.125 MHz\\r\\n'\n",
      ".b'F 3550.126 MHz; // Act 3550.126984 MHz\\r\\n'\n",
      ".b'F 3550.127 MHz; // Act 3550.126984 MHz\\r\\n'\n",
      ".b'F 3550.128 MHz; // Act 3550.128 MHz\\r\\n'\n",
      ".b'F 3550.129 MHz; // Act 3550.129426 MHz\\r\\n'\n",
      ".b'F 3550.13 MHz; // Act 3550.13 MHz\\r\\n'\n",
      ".b'F 3550.131 MHz; // Act 3550.131868 MHz\\r\\n'\n",
      ".b'F 3550.132 MHz; // Act 3550.132 MHz\\r\\n'\n",
      ".b'F 3550.133 MHz; // Act 3550.131868 MHz\\r\\n'\n",
      ".b'F 3550.134 MHz; // Act 3550.13431 MHz\\r\\n'\n",
      ".b'F 3550.135 MHz; // Act 3550.135 MHz\\r\\n'\n",
      ".b'F 3550.136 MHz; // Act 3550.136 MHz\\r\\n'\n",
      ".b'F 3550.137 MHz; // Act 3550.136752 MHz\\r\\n'\n",
      ".b'F 3550.138 MHz; // Act 3550.139194 MHz\\r\\n'\n",
      ".b'F 3550.139 MHz; // Act 3550.139194 MHz\\r\\n'\n",
      ".b'F 3550.14 MHz; // Act 3550.14 MHz\\r\\n'\n",
      ".b'F 3550.141 MHz; // Act 3550.141636 MHz\\r\\n'\n",
      ".b'F 3550.142 MHz; // Act 3550.141636 MHz\\r\\n'\n",
      ".b'F 3550.143 MHz; // Act 3550.144078 MHz\\r\\n'\n",
      ".b'F 3550.144 MHz; // Act 3550.144 MHz\\r\\n'\n",
      ".b'F 3550.145 MHz; // Act 3550.145 MHz\\r\\n'\n",
      ".b'F 3550.146 MHz; // Act 3550.14652 MHz\\r\\n'\n",
      ".b'F 3550.147 MHz; // Act 3550.14652 MHz\\r\\n'\n",
      ".b'F 3550.148 MHz; // Act 3550.148 MHz\\r\\n'\n",
      ".b'F 3550.149 MHz; // Act 3550.148962 MHz\\r\\n'\n",
      ".b'F 3550.15 MHz; // Act 3550.15 MHz\\r\\n'\n",
      ".b'F 3550.151 MHz; // Act 3550.151404 MHz\\r\\n'\n",
      ".b'F 3550.152 MHz; // Act 3550.152 MHz\\r\\n'\n",
      ".b'F 3550.153 MHz; // Act 3550.153846 MHz\\r\\n'\n",
      ".b'F 3550.154 MHz; // Act 3550.153846 MHz\\r\\n'\n",
      ".b'F 3550.155 MHz; // Act 3550.155 MHz\\r\\n'\n",
      ".b'F 3550.156 MHz; // Act 3550.156 MHz\\r\\n'\n",
      ".b'F 3550.157 MHz; // Act 3550.156288 MHz\\r\\n'\n",
      ".b'F 3550.158 MHz; // Act 3550.15873 MHz\\r\\n'\n",
      ".b'F 3550.159 MHz; // Act 3550.15873 MHz\\r\\n'\n",
      ".b'F 3550.16 MHz; // Act 3550.16 MHz\\r\\n'\n",
      ".b'F 3550.161 MHz; // Act 3550.161172 MHz\\r\\n'\n",
      ".b'F 3550.162 MHz; // Act 3550.161172 MHz\\r\\n'\n",
      ".b'F 3550.163 MHz; // Act 3550.163614 MHz\\r\\n'\n",
      ".b'F 3550.164 MHz; // Act 3550.164 MHz\\r\\n'\n",
      ".b'F 3550.165 MHz; // Act 3550.165 MHz\\r\\n'\n",
      ".b'F 3550.166 MHz; // Act 3550.166056 MHz\\r\\n'\n",
      ".b'F 3550.167 MHz; // Act 3550.166056 MHz\\r\\n'\n",
      ".b'F 3550.168 MHz; // Act 3550.168 MHz\\r\\n'\n",
      ".b'F 3550.169 MHz; // Act 3550.168498 MHz\\r\\n'\n",
      ".b'F 3550.17 MHz; // Act 3550.17 MHz\\r\\n'\n",
      ".b'F 3550.171 MHz; // Act 3550.17094 MHz\\r\\n'\n",
      ".b'F 3550.172 MHz; // Act 3550.172 MHz\\r\\n'\n",
      ".b'F 3550.173 MHz; // Act 3550.173382 MHz\\r\\n'\n",
      ".b'F 3550.174 MHz; // Act 3550.173382 MHz\\r\\n'\n",
      ".b'F 3550.175 MHz; // Act 3550.175 MHz\\r\\n'\n",
      ".b'F 3550.176 MHz; // Act 3550.176 MHz\\r\\n'\n",
      ".b'F 3550.177 MHz; // Act 3550.175824 MHz\\r\\n'\n",
      ".b'F 3550.178 MHz; // Act 3550.178266 MHz\\r\\n'\n",
      ".b'F 3550.179 MHz; // Act 3550.178266 MHz\\r\\n'\n",
      ".b'F 3550.18 MHz; // Act 3550.18 MHz\\r\\n'\n",
      ".b'F 3550.181 MHz; // Act 3550.180708 MHz\\r\\n'\n",
      ".b'F 3550.182 MHz; // Act 3550.18315 MHz\\r\\n'\n",
      ".b'F 3550.183 MHz; // Act 3550.18315 MHz\\r\\n'\n",
      ".b'F 3550.184 MHz; // Act 3550.184 MHz\\r\\n'\n",
      ".b'F 3550.185 MHz; // Act 3550.185 MHz\\r\\n'\n",
      ".b'F 3550.186 MHz; // Act 3550.185592 MHz\\r\\n'\n",
      ".b'F 3550.187 MHz; // Act 3550.188034 MHz\\r\\n'\n",
      ".b'F 3550.188 MHz; // Act 3550.188 MHz\\r\\n'\n",
      ".b'F 3550.189 MHz; // Act 3550.188034 MHz\\r\\n'\n",
      ".b'F 3550.19 MHz; // Act 3550.19 MHz\\r\\n'\n",
      ".b'F 3550.191 MHz; // Act 3550.190476 MHz\\r\\n'\n",
      ".b'F 3550.192 MHz; // Act 3550.192 MHz\\r\\n'\n",
      ".b'F 3550.193 MHz; // Act 3550.192918 MHz\\r\\n'\n",
      ".b'F 3550.194 MHz; // Act 3550.192918 MHz\\r\\n'\n",
      ".b'F 3550.195 MHz; // Act 3550.195 MHz\\r\\n'\n",
      ".b'F 3550.196 MHz; // Act 3550.196 MHz\\r\\n'\n",
      ".b'F 3550.197 MHz; // Act 3550.197802 MHz\\r\\n'\n",
      ".b'F 3550.198 MHz; // Act 3550.197802 MHz\\r\\n'\n",
      ".b'F 3550.199 MHz; // Act 3550.197802 MHz\\r\\n'\n",
      ".b'F 3550.2 MHz; // Act 3550.2 MHz\\r\\n'\n",
      ".b'F 3550.201 MHz; // Act 3550.200244 MHz\\r\\n'\n",
      ".b'F 3550.202 MHz; // Act 3550.202686 MHz\\r\\n'\n",
      ".b'F 3550.203 MHz; // Act 3550.202686 MHz\\r\\n'\n",
      ".b'F 3550.204 MHz; // Act 3550.204 MHz\\r\\n'\n",
      ".b'F 3550.205 MHz; // Act 3550.205 MHz\\r\\n'\n",
      ".b'F 3550.206 MHz; // Act 3550.205128 MHz\\r\\n'\n",
      ".b'F 3550.207 MHz; // Act 3550.20757 MHz\\r\\n'\n",
      ".b'F 3550.208 MHz; // Act 3550.208 MHz\\r\\n'\n",
      ".b'F 3550.209 MHz; // Act 3550.210012 MHz\\r\\n'\n",
      ".b'F 3550.21 MHz; // Act 3550.21 MHz\\r\\n'\n",
      ".b'F 3550.211 MHz; // Act 3550.210012 MHz\\r\\n'\n",
      ".b'F 3550.212 MHz; // Act 3550.212 MHz\\r\\n'\n",
      ".b'F 3550.213 MHz; // Act 3550.212454 MHz\\r\\n'\n",
      ".b'F 3550.214 MHz; // Act 3550.214896 MHz\\r\\n'\n",
      ".b'F 3550.215 MHz; // Act 3550.215 MHz\\r\\n'\n",
      ".b'F 3550.216 MHz; // Act 3550.216 MHz\\r\\n'\n",
      ".b'F 3550.217 MHz; // Act 3550.217338 MHz\\r\\n'\n",
      ".b'F 3550.218 MHz; // Act 3550.217338 MHz\\r\\n'\n",
      ".b'F 3550.219 MHz; // Act 3550.21978 MHz\\r\\n'\n",
      ".b'F 3550.22 MHz; // Act 3550.22 MHz\\r\\n'\n",
      ".b'F 3550.221 MHz; // Act 3550.21978 MHz\\r\\n'\n",
      ".b'F 3550.222 MHz; // Act 3550.222222 MHz\\r\\n'\n",
      ".b'F 3550.223 MHz; // Act 3550.222222 MHz\\r\\n'\n",
      ".b'F 3550.224 MHz; // Act 3550.224 MHz\\r\\n'\n",
      ".b'F 3550.225 MHz; // Act 3550.225 MHz\\r\\n'\n",
      ".b'F 3550.226 MHz; // Act 3550.227106 MHz\\r\\n'\n",
      ".b'F 3550.227 MHz; // Act 3550.227106 MHz\\r\\n'\n",
      ".b'F 3550.228 MHz; // Act 3550.228 MHz\\r\\n'\n",
      ".b'F 3550.229 MHz; // Act 3550.229548 MHz\\r\\n'\n",
      ".b'F 3550.23 MHz; // Act 3550.23 MHz\\r\\n'\n",
      ".b'F 3550.231 MHz; // Act 3550.23199 MHz\\r\\n'\n",
      ".b'F 3550.232 MHz; // Act 3550.232 MHz\\r\\n'\n",
      ".b'F 3550.233 MHz; // Act 3550.23199 MHz\\r\\n'\n",
      ".b'F 3550.234 MHz; // Act 3550.234432 MHz\\r\\n'\n",
      ".b'F 3550.235 MHz; // Act 3550.235 MHz\\r\\n'\n",
      ".b'F 3550.236 MHz; // Act 3550.236 MHz\\r\\n'\n",
      ".b'F 3550.237 MHz; // Act 3550.236874 MHz\\r\\n'\n",
      ".b'F 3550.238 MHz; // Act 3550.236874 MHz\\r\\n'\n",
      ".b'F 3550.239 MHz; // Act 3550.239316 MHz\\r\\n'\n",
      ".b'F 3550.24 MHz; // Act 3550.24 MHz\\r\\n'\n",
      ".b'F 3550.241 MHz; // Act 3550.241758 MHz\\r\\n'\n",
      ".b'F 3550.242 MHz; // Act 3550.241758 MHz\\r\\n'\n",
      ".b'F 3550.243 MHz; // Act 3550.2442 MHz\\r\\n'\n",
      ".b'F 3550.244 MHz; // Act 3550.244 MHz\\r\\n'\n",
      ".b'F 3550.245 MHz; // Act 3550.245 MHz\\r\\n'\n",
      ".b'F 3550.246 MHz; // Act 3550.246642 MHz\\r\\n'\n",
      ".b'F 3550.247 MHz; // Act 3550.246642 MHz\\r\\n'\n",
      ".b'F 3550.248 MHz; // Act 3550.248 MHz\\r\\n'\n",
      ".b'F 3550.249 MHz; // Act 3550.249084 MHz\\r\\n'\n"
     ]
    },
    {
     "name": "stderr",
     "output_type": "stream",
     "text": [
      "2024-06-13 17:36:21,155|INFO|measurements.py|83|sweep| sweepz.shape=(500, 1000)\n"
     ]
    },
    {
     "name": "stdout",
     "output_type": "stream",
     "text": [
      ".b'F 3550 MHz; // Act 3550 MHz\\r\\n'\n",
      "LO Sweep s21 file saved.\n"
     ]
    }
   ],
   "source": [
    "loSweep(valon, udp, freqs, f_center=3550, N_steps = 500, freq_step=0.001,savefile=\"s21\")"
   ]
  },
  {
   "cell_type": "code",
   "execution_count": 15,
   "id": "d4116efb-cd15-430d-afa4-d17f47ea2e24",
   "metadata": {},
   "outputs": [],
   "source": [
    "data = np.load(\"s21.npy\")"
   ]
  },
  {
   "cell_type": "code",
   "execution_count": 16,
   "id": "25cf3fcb-b204-4f81-a56f-47cfd0795fce",
   "metadata": {
    "editable": true,
    "slideshow": {
     "slide_type": ""
    },
    "tags": []
   },
   "outputs": [],
   "source": [
    "flos = data[0]\n",
    "z = data[1]"
   ]
  },
  {
   "cell_type": "code",
   "execution_count": 17,
   "id": "a0b70cf6-c0ab-4440-91e1-dbee9a29902e",
   "metadata": {
    "editable": true,
    "slideshow": {
     "slide_type": ""
    },
    "tags": []
   },
   "outputs": [
    {
     "name": "stderr",
     "output_type": "stream",
     "text": [
      "/home/asu/pybase/lib/python3.10/site-packages/matplotlib/cbook.py:1762: ComplexWarning: Casting complex values to real discards the imaginary part\n",
      "  return math.isfinite(val)\n",
      "/home/asu/pybase/lib/python3.10/site-packages/matplotlib/cbook.py:1398: ComplexWarning: Casting complex values to real discards the imaginary part\n",
      "  return np.asarray(x, float)\n"
     ]
    },
    {
     "data": {
      "image/png": "[encoded data removed]",
      "text/plain": [
       "<Figure size 1400x800 with 1 Axes>"
      ]
     },
     "metadata": {},
     "output_type": "display_data"
    }
   ],
   "source": [
    "z = 10 * np.log10(np.abs(z))\n",
    "plt.figure(figsize=(14, 8))\n",
    "plt.plot(flos, z.real)\n",
    "plt.grid()\n",
    "plt.show()"
   ]
  },
  {
   "cell_type": "code",
   "execution_count": null,
   "id": "6bc0b2c4-b77f-44d9-b28e-b0a866c8b29d",
   "metadata": {
    "editable": true,
    "slideshow": {
     "slide_type": ""
    },
    "tags": []
   },
   "outputs": [],
   "source": []
  },
  {
   "cell_type": "code",
   "execution_count": null,
   "id": "07412e9d-ca69-4736-98c2-74e9bb817df3",
   "metadata": {},
   "outputs": [],
   "source": []
  }
 ],
 "metadata": {
  "kernelspec": {
   "display_name": "Python 3 (ipykernel)",
   "language": "python",
   "name": "python3"
  },
  "language_info": {
   "codemirror_mode": {
    "name": "ipython",
    "version": 3
   },
   "file_extension": ".py",
   "mimetype": "text/x-python",
   "name": "python",
   "nbconvert_exporter": "python",
   "pygments_lexer": "ipython3",
   "version": "3.10.12"
  }
 },
 "nbformat": 4,
 "nbformat_minor": 5
}
