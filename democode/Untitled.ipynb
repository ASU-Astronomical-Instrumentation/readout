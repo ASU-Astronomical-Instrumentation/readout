{
 "cells": [
  {
   "cell_type": "code",
   "execution_count": 2,
   "id": "5a3cf24b-559b-4c0c-b54c-6dcb33e088cf",
   "metadata": {},
   "outputs": [],
   "source": [
    "import multiprocessing as mp\n",
    "import numpy as np\n",
    "import concurrent.futures"
   ]
  },
  {
   "cell_type": "code",
   "execution_count": 3,
   "id": "19101e61-a5c8-4f91-85a0-24261866469d",
   "metadata": {},
   "outputs": [],
   "source": [
    "def fn(run):\n",
    "    i = 0\n",
    "    while run:\n",
    "        i = i+1"
   ]
  },
  {
   "cell_type": "code",
   "execution_count": null,
   "id": "70c1cd63-b843-441e-8635-a5930448836d",
   "metadata": {},
   "outputs": [],
   "source": [
    "\n",
    "    "
   ]
  }
 ],
 "metadata": {
  "kernelspec": {
   "display_name": "Python 3 (ipykernel)",
   "language": "python",
   "name": "python3"
  },
  "language_info": {
   "codemirror_mode": {
    "name": "ipython",
    "version": 3
   },
   "file_extension": ".py",
   "mimetype": "text/x-python",
   "name": "python",
   "nbconvert_exporter": "python",
   "pygments_lexer": "ipython3",
   "version": "3.10.6"
  }
 },
 "nbformat": 4,
 "nbformat_minor": 5
}
