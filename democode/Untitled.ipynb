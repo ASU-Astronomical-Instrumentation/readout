{
 "cells": [
  {
   "cell_type": "code",
   "execution_count": 30,
   "id": "5a3cf24b-559b-4c0c-b54c-6dcb33e088cf",
   "metadata": {},
   "outputs": [],
   "source": [
    "import multiprocessing as mp\n",
    "import numpy as np\n",
    "import concurrent.futures\n",
    "import time"
   ]
  },
  {
   "cell_type": "code",
   "execution_count": 3,
   "id": "19101e61-a5c8-4f91-85a0-24261866469d",
   "metadata": {},
   "outputs": [],
   "source": [
    "def fn(run):\n",
    "    i = 0\n",
    "    while run:\n",
    "        i = i+1"
   ]
  },
  {
   "cell_type": "code",
   "execution_count": 5,
   "id": "70c1cd63-b843-441e-8635-a5930448836d",
   "metadata": {},
   "outputs": [],
   "source": [
    "def myfunc(*args):\n",
    "    print(type(*args))"
   ]
  },
  {
   "cell_type": "code",
   "execution_count": 6,
   "id": "cbf8e05c-4063-41dc-95f6-293ee6163e9c",
   "metadata": {},
   "outputs": [
    {
     "name": "stdout",
     "output_type": "stream",
     "text": [
      "<class 'str'>\n"
     ]
    }
   ],
   "source": [
    "myfunc(\"cat\")"
   ]
  },
  {
   "cell_type": "code",
   "execution_count": 7,
   "id": "d73c71b5-e79d-45de-90c9-aaf6e164cb18",
   "metadata": {},
   "outputs": [],
   "source": [
    "def f2(l: list, fn=None, *args):\n",
    "    print(l)\n",
    "    return fn(*args)"
   ]
  },
  {
   "cell_type": "code",
   "execution_count": 8,
   "id": "3073462c-6e13-43fd-bf7e-bc2a6fb961f0",
   "metadata": {},
   "outputs": [
    {
     "name": "stdout",
     "output_type": "stream",
     "text": [
      "['abc']\n",
      "the cat\n"
     ]
    }
   ],
   "source": [
    "f2([\"abc\"], print, \"the\", \"cat\")"
   ]
  },
  {
   "cell_type": "code",
   "execution_count": 10,
   "id": "af8c22d6-d235-496c-8bad-622a3b56877e",
   "metadata": {},
   "outputs": [],
   "source": [
    "class TelescopeDataFile:\n",
    "    def __init__(self) -> None:\n",
    "        pass"
   ]
  },
  {
   "cell_type": "code",
   "execution_count": 11,
   "id": "658ea6fc-0490-4fb4-a5de-b66a9f3e77f4",
   "metadata": {},
   "outputs": [],
   "source": [
    "s = TelescopeDataFile()"
   ]
  },
  {
   "cell_type": "code",
   "execution_count": 14,
   "id": "db247786-81ad-4fce-be00-b5a4d1f0a7c0",
   "metadata": {},
   "outputs": [
    {
     "data": {
      "text/plain": [
       "True"
      ]
     },
     "execution_count": 14,
     "metadata": {},
     "output_type": "execute_result"
    }
   ],
   "source": [
    "isinstance(s, TelescopeDataFile)"
   ]
  },
  {
   "cell_type": "markdown",
   "id": "d0837ef7-8a93-4ccf-b50e-53c9aee7ab09",
   "metadata": {},
   "source": [
    "Mess with Jacks"
   ]
  },
  {
   "cell_type": "code",
   "execution_count": 15,
   "id": "5767be67-1bca-4bcd-9bcc-8f519f9ade8e",
   "metadata": {},
   "outputs": [],
   "source": [
    "import numpy as np\n",
    "import os\n",
    "import pdb\n",
    "from datetime import date\n",
    "from datetime import datetime\n",
    "import glob\n",
    "import matplotlib.pyplot as plt\n",
    "\n",
    "def get_yymmdd():\n",
    "\n",
    "    #get today's date string\n",
    "    yy = \"{}\".format(date.today().year)\n",
    "    mm = \"{}\".format(date.today().month)\n",
    "    if date.today().month < 10:\n",
    "        mm = '0' + mm\n",
    "    dd = \"{}\".format(date.today().day)\n",
    "    if date.today().day < 10:\n",
    "        dd = '0' + dd\n",
    "    yymmdd = yy + mm + dd\n",
    "    return yymmdd\n",
    "\n",
    "def get_filename(type='LO'):\n",
    "\n",
    "    #see if we already have the parent folder for today's date\n",
    "    yymmdd = get_yymmdd()\n",
    "    date_folder = '/data/' + yymmdd + '/' + yymmdd + '_'\n",
    "    check_date_folder = glob.glob('/data/' + yymmdd + '/')\n",
    "    if np.size(check_date_folder) == 0:\n",
    "        os.makedirs(date_folder)\n",
    "\n",
    "    #provide the name of the file\n",
    "    if type == 'LO':\n",
    "        hour_str = float(datetime.now().strftime(\"%H\")) + float(datetime.now().strftime(\"%M\"))/60. + \\\n",
    "            float(datetime.now().strftime(\"%S\"))/3600.\n",
    "        if hour_str < 10:\n",
    "            hour_str = 'hour0' + '{0:.4f}'.format(hour_str)\n",
    "        else:\n",
    "            hour_str = 'hour' + '{0:.4f}'.format(hour_str)\n",
    "        hour_str = hour_str.replace('.','p')\n",
    "\n",
    "        savefile = date_folder + 'LO_Sweep_' + hour_str\n",
    "    if type == 'TOD' or type == 'AZEL':\n",
    "        this_dir_files = glob.glob(date_folder + 'TOD_set' + '*')\n",
    "        if np.size(this_dir_files) == 0:\n",
    "            setnum = '1001'\n",
    "        else:\n",
    "            this_dir_files.sort()\n",
    "            if type == 'TOD':\n",
    "                offset = 1\n",
    "            else:\n",
    "                offset = 0\n",
    "            setnum = \"{}\".format(int(this_dir_files[-1][-8:-4])+offset)\n",
    "    if type == 'TOD':\n",
    "        savefile = date_folder + 'TOD_set' + setnum\n",
    "    if type == 'AZEL':\n",
    "        savefile = date_folder + 'AZEL_set' + setnum\n",
    "\n",
    "    return savefile"
   ]
  },
  {
   "cell_type": "code",
   "execution_count": 28,
   "id": "049ef5ec-4908-4c7b-b093-c63cdd4cedb1",
   "metadata": {},
   "outputs": [
    {
     "data": {
      "text/plain": [
       "'/data/20230730/20230730_LO_Sweep_hour14p8183.npy'"
      ]
     },
     "execution_count": 28,
     "metadata": {},
     "output_type": "execute_result"
    }
   ],
   "source": [
    "get_filename()+'rfsoc1.npy'"
   ]
  },
  {
   "cell_type": "code",
   "execution_count": 83,
   "id": "1e19432c-b4b2-4188-ba03-ed335eb9538a",
   "metadata": {},
   "outputs": [
    {
     "name": "stdout",
     "output_type": "stream",
     "text": [
      "/data/20230730/20230730_LO_Sweep_hour15p4597_rfsoc1.npy\n",
      "/data/20230730/20230730_LO_Sweep_hour15p4600_rfsoc1.npy\n",
      "/data/20230730/20230730_LO_Sweep_hour15p4603_rfsoc1.npy\n",
      "/data/20230730/20230730_LO_Sweep_hour15p4606_rfsoc1.npy\n",
      "/data/20230730/20230730_LO_Sweep_hour15p4608_rfsoc1.npy\n",
      "/data/20230730/20230730_LO_Sweep_hour15p4611_rfsoc1.npy\n",
      "/data/20230730/20230730_LO_Sweep_hour15p4614_rfsoc1.npy\n",
      "/data/20230730/20230730_LO_Sweep_hour15p4617_rfsoc1.npy\n",
      "/data/20230730/20230730_LO_Sweep_hour15p4619_rfsoc1.npy\n",
      "/data/20230730/20230730_LO_Sweep_hour15p4622_rfsoc1.npy\n",
      "/data/20230730/20230730_LO_Sweep_hour15p4625_rfsoc1.npy\n",
      "/data/20230730/20230730_LO_Sweep_hour15p4628_rfsoc1.npy\n"
     ]
    }
   ],
   "source": [
    "test = []\n",
    "test2 = []\n",
    "for _ in range(12):\n",
    "    test.append(get_filename()+'_rfsoc1.npy')\n",
    "    print(get_filename()+'_rfsoc1.npy')\n",
    "    time.sleep(1)"
   ]
  },
  {
   "cell_type": "code",
   "execution_count": 84,
   "id": "5f727b5c-2665-4cde-b464-e895ceab5d0d",
   "metadata": {},
   "outputs": [
    {
     "name": "stdout",
     "output_type": "stream",
     "text": [
      "/data/20230730/20230730_LO_Sweep_hour15p4675_rfsoc2.npy\n",
      "/data/20230730/20230730_LO_Sweep_hour15p4678_rfsoc2.npy\n",
      "/data/20230730/20230730_LO_Sweep_hour15p4681_rfsoc2.npy\n",
      "/data/20230730/20230730_LO_Sweep_hour15p4683_rfsoc2.npy\n",
      "/data/20230730/20230730_LO_Sweep_hour15p4686_rfsoc2.npy\n",
      "/data/20230730/20230730_LO_Sweep_hour15p4689_rfsoc2.npy\n",
      "/data/20230730/20230730_LO_Sweep_hour15p4692_rfsoc2.npy\n",
      "/data/20230730/20230730_LO_Sweep_hour15p4694_rfsoc2.npy\n",
      "/data/20230730/20230730_LO_Sweep_hour15p4697_rfsoc2.npy\n",
      "/data/20230730/20230730_LO_Sweep_hour15p4700_rfsoc2.npy\n",
      "/data/20230730/20230730_LO_Sweep_hour15p4703_rfsoc2.npy\n",
      "/data/20230730/20230730_LO_Sweep_hour15p4706_rfsoc2.npy\n"
     ]
    }
   ],
   "source": [
    "for _ in range(12):\n",
    "    test.append(get_filename()+'_rfsoc2.npy')\n",
    "    print(get_filename()+'_rfsoc2.npy')\n",
    "    time.sleep(1)"
   ]
  },
  {
   "cell_type": "code",
   "execution_count": 85,
   "id": "422e0bd5-0401-413e-878d-d6e7d86b9c8b",
   "metadata": {},
   "outputs": [],
   "source": [
    "def p(sss):\n",
    "    for t in sss:\n",
    "        print(t)\n",
    "p(test2)"
   ]
  },
  {
   "cell_type": "code",
   "execution_count": 49,
   "id": "7146b7c4-c2e3-416d-86f1-2ed51e4157bc",
   "metadata": {},
   "outputs": [],
   "source": [
    "test2.sort()"
   ]
  },
  {
   "cell_type": "code",
   "execution_count": 86,
   "id": "f21608b6-917f-4f69-98e3-4164194f743e",
   "metadata": {},
   "outputs": [],
   "source": [
    "for i in test:\n",
    "    a = open(i, 'a')\n",
    "    a.close()"
   ]
  },
  {
   "cell_type": "code",
   "execution_count": 72,
   "id": "0acef8fc-b002-4e66-8ccc-48c8a134c29a",
   "metadata": {},
   "outputs": [
    {
     "name": "stdout",
     "output_type": "stream",
     "text": [
      "/data/20230730/20230730_LO_Sweep_hour14p9050.npy\n",
      "/data/20230730/20230730_LO_Sweep_hour14p9064.npy\n",
      "/data/20230730/20230730_LO_Sweep_hour16p8450.npy\n",
      "/data/20230730/20230730_LO_Sweep_hour14p9056.npy\n",
      "/data/20230730/20230730_LO_Sweep_hour14p8450.npy\n",
      "/data/20230730/20230730_LO_Sweep_hour14p9044.npy\n",
      "/data/20230730/20230730_\n",
      "/data/20230730/20230730_LO_Sweep_hour14p9047.npy\n",
      "\n",
      "/data/20230730/20230730_\n",
      "/data/20230730/20230730_LO_Sweep_hour14p8450.npy\n",
      "/data/20230730/20230730_LO_Sweep_hour14p9044.npy\n",
      "/data/20230730/20230730_LO_Sweep_hour14p9047.npy\n",
      "/data/20230730/20230730_LO_Sweep_hour14p9050.npy\n",
      "/data/20230730/20230730_LO_Sweep_hour14p9056.npy\n",
      "/data/20230730/20230730_LO_Sweep_hour14p9064.npy\n",
      "/data/20230730/20230730_LO_Sweep_hour16p8450.npy\n"
     ]
    }
   ],
   "source": [
    "dddd = glob.glob(\"/data/20230730/*\")\n",
    "p(dddd)\n",
    "print(\"\")\n",
    "dddd.sort()\n",
    "p(dddd)"
   ]
  },
  {
   "cell_type": "code",
   "execution_count": 57,
   "id": "5e472983-ffa7-4f7f-a3cf-7fdac9f0a09e",
   "metadata": {},
   "outputs": [
    {
     "name": "stdout",
     "output_type": "stream",
     "text": [
      "20230730_\n"
     ]
    }
   ],
   "source": [
    "!ls /data/20230730/"
   ]
  },
  {
   "cell_type": "code",
   "execution_count": 67,
   "id": "16dc7d17-62e0-4f76-807e-ac3d9fc30f97",
   "metadata": {},
   "outputs": [],
   "source": [
    "zx = [1]"
   ]
  },
  {
   "cell_type": "code",
   "execution_count": 68,
   "id": "2fc26623-6a58-4328-ac63-4b47b29e5e40",
   "metadata": {},
   "outputs": [
    {
     "data": {
      "text/plain": [
       "1"
      ]
     },
     "execution_count": 68,
     "metadata": {},
     "output_type": "execute_result"
    }
   ],
   "source": [
    "zx[-1]"
   ]
  },
  {
   "cell_type": "code",
   "execution_count": 76,
   "id": "35051571-48c4-4110-b178-fdb18a994f42",
   "metadata": {},
   "outputs": [],
   "source": [
    "    fstring = f\"/data/{20230730}/{20230730}_LO_Sweep_*.npy\"\n",
    "    g = glob.glob(fstring)"
   ]
  },
  {
   "cell_type": "code",
   "execution_count": 79,
   "id": "a2f6a1a3-68b6-44dd-bf76-ec6360001c14",
   "metadata": {},
   "outputs": [],
   "source": [
    "g.sort()"
   ]
  },
  {
   "cell_type": "code",
   "execution_count": 80,
   "id": "1a5f3ae9-5831-45cf-9395-61898eb36e6c",
   "metadata": {},
   "outputs": [
    {
     "data": {
      "text/plain": [
       "['/data/20230730/20230730_LO_Sweep_hour14p8450.npy',\n",
       " '/data/20230730/20230730_LO_Sweep_hour14p9044.npy',\n",
       " '/data/20230730/20230730_LO_Sweep_hour14p9047.npy',\n",
       " '/data/20230730/20230730_LO_Sweep_hour14p9050.npy',\n",
       " '/data/20230730/20230730_LO_Sweep_hour14p9056.npy',\n",
       " '/data/20230730/20230730_LO_Sweep_hour14p9064.npy',\n",
       " '/data/20230730/20230730_LO_Sweep_hour16p8450.npy']"
      ]
     },
     "execution_count": 80,
     "metadata": {},
     "output_type": "execute_result"
    }
   ],
   "source": [
    "g"
   ]
  },
  {
   "cell_type": "code",
   "execution_count": 90,
   "id": "17a0141b-c4cd-447f-952f-3ed1c41fb444",
   "metadata": {},
   "outputs": [],
   "source": [
    "def get_last_lo(name: str):\n",
    "    \"\"\"\n",
    "    Modified function to get the laster sweep file from data.\n",
    "    this function expects a general file format consisting of the\n",
    "    following.\n",
    "\n",
    "    .. code::\n",
    "\n",
    "        \"/data/{yymmdd}/{yymmdd}_LO_Sweep_{name}_*.npy\"\n",
    "        /data/20230730/20230730_LO_Sweep_rfsoc1_hour14p9064.npy\n",
    "        /data/20230730/20230730_LO_Sweep_rfsoc1_hour14p9056.npy\n",
    "\n",
    "    \"\"\"\n",
    "    # see if we already have the parent folder for today's date\n",
    "    yymmdd = get_yymmdd()\n",
    "    date_folder = \"/data/\" + yymmdd + \"/\"\n",
    "    check_date_folder = glob.glob(date_folder)\n",
    "    if np.size(check_date_folder) == 0:\n",
    "        return \"\"\n",
    "\n",
    "    fstring = f\"/data/{yymmdd}/{yymmdd}_LO_Sweep_*_{name}.npy\"\n",
    "    g = glob.glob(fstring)\n",
    "\n",
    "    if len(g) == 0:\n",
    "        return \"\"\n",
    "\n",
    "    g.sort()\n",
    "    return g[-1]"
   ]
  },
  {
   "cell_type": "code",
   "execution_count": 95,
   "id": "f8343f65-db01-4e6c-a970-28a01fa706bb",
   "metadata": {},
   "outputs": [
    {
     "data": {
      "text/plain": [
       "''"
      ]
     },
     "execution_count": 95,
     "metadata": {},
     "output_type": "execute_result"
    }
   ],
   "source": [
    "get_last_lo(\"rfsoc2s\")"
   ]
  },
  {
   "cell_type": "code",
   "execution_count": 93,
   "id": "80a83abc-2672-42b9-904c-e84ea7769654",
   "metadata": {},
   "outputs": [
    {
     "name": "stdout",
     "output_type": "stream",
     "text": [
      "/data/20230730/20230730_LO_Sweep_hour15p4597_rfsoc1.npy\n",
      "/data/20230730/20230730_LO_Sweep_hour15p4600_rfsoc1.npy\n",
      "/data/20230730/20230730_LO_Sweep_hour15p4603_rfsoc1.npy\n",
      "/data/20230730/20230730_LO_Sweep_hour15p4606_rfsoc1.npy\n",
      "/data/20230730/20230730_LO_Sweep_hour15p4608_rfsoc1.npy\n",
      "/data/20230730/20230730_LO_Sweep_hour15p4611_rfsoc1.npy\n",
      "/data/20230730/20230730_LO_Sweep_hour15p4614_rfsoc1.npy\n",
      "/data/20230730/20230730_LO_Sweep_hour15p4617_rfsoc1.npy\n",
      "/data/20230730/20230730_LO_Sweep_hour15p4619_rfsoc1.npy\n",
      "/data/20230730/20230730_LO_Sweep_hour15p4622_rfsoc1.npy\n",
      "/data/20230730/20230730_LO_Sweep_hour15p4625_rfsoc1.npy\n",
      "/data/20230730/20230730_LO_Sweep_hour15p4628_rfsoc1.npy\n",
      "/data/20230730/20230730_LO_Sweep_hour15p4675_rfsoc2.npy\n",
      "/data/20230730/20230730_LO_Sweep_hour15p4678_rfsoc2.npy\n",
      "/data/20230730/20230730_LO_Sweep_hour15p4681_rfsoc2.npy\n",
      "/data/20230730/20230730_LO_Sweep_hour15p4683_rfsoc2.npy\n",
      "/data/20230730/20230730_LO_Sweep_hour15p4686_rfsoc2.npy\n",
      "/data/20230730/20230730_LO_Sweep_hour15p4689_rfsoc2.npy\n",
      "/data/20230730/20230730_LO_Sweep_hour15p4692_rfsoc2.npy\n",
      "/data/20230730/20230730_LO_Sweep_hour15p4694_rfsoc2.npy\n",
      "/data/20230730/20230730_LO_Sweep_hour15p4697_rfsoc2.npy\n",
      "/data/20230730/20230730_LO_Sweep_hour15p4700_rfsoc2.npy\n",
      "/data/20230730/20230730_LO_Sweep_hour15p4703_rfsoc2.npy\n",
      "/data/20230730/20230730_LO_Sweep_hour15p4706_rfsoc2.npy\n"
     ]
    }
   ],
   "source": [
    "p(test)"
   ]
  },
  {
   "cell_type": "code",
   "execution_count": null,
   "id": "5ea1227c-7e17-4cd3-82cd-d38e560ba0a0",
   "metadata": {},
   "outputs": [],
   "source": []
  }
 ],
 "metadata": {
  "kernelspec": {
   "display_name": "Python 3 (ipykernel)",
   "language": "python",
   "name": "python3"
  },
  "language_info": {
   "codemirror_mode": {
    "name": "ipython",
    "version": 3
   },
   "file_extension": ".py",
   "mimetype": "text/x-python",
   "name": "python",
   "nbconvert_exporter": "python",
   "pygments_lexer": "ipython3",
   "version": "3.10.6"
  }
 },
 "nbformat": 4,
 "nbformat_minor": 5
}
