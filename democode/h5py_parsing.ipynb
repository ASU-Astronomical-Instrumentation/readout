{
 "cells": [
  {
   "cell_type": "code",
   "execution_count": 1,
   "id": "85142c91-060d-4368-a9ba-09278ef52a74",
   "metadata": {},
   "outputs": [],
   "source": [
    "import numpy as np\n",
    "import h5py"
   ]
  },
  {
   "cell_type": "code",
   "execution_count": 2,
   "id": "3f9f7d84-a8bf-471b-aae5-7e3e899c1e25",
   "metadata": {},
   "outputs": [],
   "source": [
    "f = h5py.File(\"myfile.h5\", 'w')\n",
    "d0 = f.create_dataset(\"monkeys\", (10,))\n",
    "d1 = f.create_dataset(\"Group1/adc\", (10,))\n",
    "d2 = f.create_dataset(\"Group2/extragroup/a\", (10,))\n",
    "d3 = f.create_dataset(\"Group2/extragroup/b\", (10,))\n",
    "d4 = f.create_dataset(\"Group2/extragroup/c\", (10,))"
   ]
  },
  {
   "cell_type": "code",
   "execution_count": 3,
   "id": "8f5a917a-a1e7-4a09-b832-336688353311",
   "metadata": {},
   "outputs": [],
   "source": [
    "d1[...] = np.arange(10)\n",
    "d2[...] = np.arange(10)*0.5\n",
    "d3[...] = np.arange(10)*2"
   ]
  },
  {
   "cell_type": "code",
   "execution_count": null,
   "id": "3bab745d-bde7-4dbb-81e0-ffc19ae421c0",
   "metadata": {},
   "outputs": [],
   "source": [
    "print(f['Group1/adc'][:])"
   ]
  },
  {
   "cell_type": "code",
   "execution_count": null,
   "id": "e634ac6a-e26c-46ba-97a7-fd76d3d730cc",
   "metadata": {},
   "outputs": [],
   "source": [
    "f['Group1/adc'][3] = 99\n",
    "d1[0] = 360"
   ]
  },
  {
   "cell_type": "code",
   "execution_count": null,
   "id": "bec22b4a-db82-48e1-a845-f17921dbb391",
   "metadata": {},
   "outputs": [],
   "source": [
    "f['Group1/adc'][:]"
   ]
  },
  {
   "cell_type": "code",
   "execution_count": 4,
   "id": "ee3826c4-7351-4930-a466-925397553e37",
   "metadata": {},
   "outputs": [],
   "source": [
    "f.close()\n",
    "del(d1)\n",
    "del(d2)"
   ]
  },
  {
   "cell_type": "code",
   "execution_count": null,
   "id": "b760f703-ccad-4148-9c40-ebb6ffe02bc0",
   "metadata": {},
   "outputs": [],
   "source": [
    "f = h5py.File(\"myfile.h5\", 'a')"
   ]
  },
  {
   "cell_type": "code",
   "execution_count": null,
   "id": "4e07e37a-b17b-4ffe-9e94-d05a86af4bc3",
   "metadata": {},
   "outputs": [],
   "source": [
    "G = f[\"Group1/adc\"]"
   ]
  },
  {
   "cell_type": "code",
   "execution_count": null,
   "id": "078759ea-075c-45a4-9afa-8f006547a693",
   "metadata": {},
   "outputs": [],
   "source": [
    "G[:] = np.arange(10)"
   ]
  },
  {
   "cell_type": "code",
   "execution_count": null,
   "id": "e74dba0a-51ff-4c4a-baec-2f9736eec05a",
   "metadata": {},
   "outputs": [],
   "source": [
    "f.close()"
   ]
  },
  {
   "cell_type": "code",
   "execution_count": null,
   "id": "265f5498-6181-4e1a-b818-160ad05682fd",
   "metadata": {},
   "outputs": [],
   "source": [
    "f = h5py.File(\"myfile.h5\", 'r')\n",
    "print(f[\"Group1/adc\"][:])"
   ]
  },
  {
   "cell_type": "code",
   "execution_count": null,
   "id": "1f06db79-49fb-468f-add0-0bf1bfde9a3c",
   "metadata": {},
   "outputs": [],
   "source": [
    "f.close()"
   ]
  },
  {
   "cell_type": "markdown",
   "id": "bb30c7ab-12cf-4940-865d-c8a9523e4ee9",
   "metadata": {},
   "source": [
    "### Parsing????"
   ]
  },
  {
   "cell_type": "code",
   "execution_count": 5,
   "id": "43406333-c58f-42ee-bfb0-10f1f8999228",
   "metadata": {},
   "outputs": [],
   "source": [
    "class yeet:\n",
    "    def __init__(self):\n",
    "        pass\n",
    "\n",
    "re = yeet()"
   ]
  },
  {
   "cell_type": "code",
   "execution_count": null,
   "id": "29bdb316-fd0c-4e74-8962-f5d38f17ec3d",
   "metadata": {},
   "outputs": [],
   "source": [
    "def somefunc(name, object):\n",
    "    if isinstance(object, h5py.Dataset):\n",
    "        setattr(yeet, object.name.split('/').pop(), f[object.name])\n",
    "\n",
    "\n",
    "        \n",
    "def f2(name):\n",
    "    m = name.split('/')\n",
    "    print(m)\n",
    "    return\n",
    "    "
   ]
  },
  {
   "cell_type": "code",
   "execution_count": 6,
   "id": "c2c0828f-98bf-4cd8-bdda-6ac4cd4bdd2b",
   "metadata": {},
   "outputs": [],
   "source": [
    "f = h5py.File(\"myfile.h5\", 'r')\n",
    "def somefunc(name, object):\n",
    "    if isinstance(object, h5py.Dataset):\n",
    "        prop = object.name.split('/').pop()\n",
    "        print(f\"self.{prop} = self.fh['{object.name}']\")\n",
    "for k,v in f.items():\n",
    "    if isinstance(v, h5py.Dataset):\n",
    "        print(f\"self.{k} = self.fh['{k}']\")        \n",
    "    elif isinstance(v, h5py.Group):\n",
    "        v.visititems(somefunc)"
   ]
  },
  {
   "cell_type": "code",
   "execution_count": 10,
   "id": "3fe34886-0840-481a-acb7-14a348c5b779",
   "metadata": {},
   "outputs": [
    {
     "name": "stdout",
     "output_type": "stream",
     "text": [
      "self.adc = self.fh['/Group1/adc']\n",
      "self.a = self.fh['/Group2/extragroup/a']\n",
      "self.b = self.fh['/Group2/extragroup/b']\n",
      "self.c = self.fh['/Group2/extragroup/c']\n",
      "self.monkeys = self.fh['monkeys']\n"
     ]
    }
   ],
   "source": [
    "\n",
    "        "
   ]
  },
  {
   "cell_type": "code",
   "execution_count": null,
   "id": "f74e8d92-7eca-483a-983e-e2facd979f69",
   "metadata": {},
   "outputs": [],
   "source": [
    "print(yeet.b[:])"
   ]
  },
  {
   "cell_type": "code",
   "execution_count": null,
   "id": "93722810-ec47-4481-aa41-73521a140d32",
   "metadata": {},
   "outputs": [],
   "source": []
  },
  {
   "cell_type": "code",
   "execution_count": null,
   "id": "54488cb6-a93f-4601-ab36-023af9e3f6fc",
   "metadata": {},
   "outputs": [],
   "source": [
    "setattr(re, "
   ]
  }
 ],
 "metadata": {
  "kernelspec": {
   "display_name": "Python 3 (ipykernel)",
   "language": "python",
   "name": "python3"
  },
  "language_info": {
   "codemirror_mode": {
    "name": "ipython",
    "version": 3
   },
   "file_extension": ".py",
   "mimetype": "text/x-python",
   "name": "python",
   "nbconvert_exporter": "python",
   "pygments_lexer": "ipython3",
   "version": "3.10.6"
  }
 },
 "nbformat": 4,
 "nbformat_minor": 5
}
