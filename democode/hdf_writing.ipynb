{
 "cells": [
  {
   "cell_type": "code",
   "execution_count": 1,
   "id": "b4089932-c705-4fe4-adb8-3287c03945bc",
   "metadata": {},
   "outputs": [],
   "source": [
    "import h5py\n",
    "import numpy as np\n",
    "import time"
   ]
  },
  {
   "cell_type": "code",
   "execution_count": 2,
   "id": "94e13bd0-3238-4d7b-871c-f355a536c2b6",
   "metadata": {},
   "outputs": [],
   "source": [
    "# create an hdf5 file, overwrite the previous one\n",
    "f = h5py.File(\"hdf_writing_testfile.h5\", 'w')"
   ]
  },
  {
   "cell_type": "code",
   "execution_count": 3,
   "id": "d44b4f70-91a1-45d9-aa6e-c68289d8acaf",
   "metadata": {},
   "outputs": [
    {
     "data": {
      "text/plain": [
       "(1024, 0)"
      ]
     },
     "execution_count": 3,
     "metadata": {},
     "output_type": "execute_result"
    }
   ],
   "source": [
    "# Create a new dataset (hopefully, unlimited in size)\n",
    "c0 = f.create_dataset(\"chunked\", (1024, 0), chunks=(1024, 488), maxshape=(1024, None))\n",
    "c0.shape"
   ]
  },
  {
   "cell_type": "code",
   "execution_count": 4,
   "id": "3321d9b4-0be4-4841-91fb-ed79758d39b2",
   "metadata": {},
   "outputs": [
    {
     "data": {
      "text/plain": [
       "(1024, 488)"
      ]
     },
     "execution_count": 4,
     "metadata": {},
     "output_type": "execute_result"
    }
   ],
   "source": [
    "c0.resize((1024,488))\n",
    "c0.shape"
   ]
  },
  {
   "cell_type": "code",
   "execution_count": null,
   "id": "8ce75043-2bea-45f8-b7e4-70d3ead6ed42",
   "metadata": {},
   "outputs": [],
   "source": [
    "rng = np.random.default_rng()\n",
    "\n",
    "data = np.zeros((1024,488))\n",
    "for i in range(488):\n",
    "    data[:, i] = rng.standard_normal(1024)\n",
    "\n",
    "c0[...] = data\n",
    "\n",
    "c0[0:4, 0]"
   ]
  },
  {
   "cell_type": "code",
   "execution_count": null,
   "id": "f6ce7922-2afa-4e41-8ff8-7e1577c5516b",
   "metadata": {},
   "outputs": [],
   "source": [
    "# what happens when I write to c0 beyond set bounds\n",
    "\n",
    "data2 = np.arange(0, 1024)\n",
    "\n",
    "try:\n",
    "    c0[:, 488] = data2\n",
    "except IndexError:\n",
    "    print(\"nope, out of bounds, going to have to use resize..this is probablay very evil performance wise.\")"
   ]
  },
  {
   "cell_type": "code",
   "execution_count": null,
   "id": "c0f99808-cb2d-49ac-9fb8-72d6779bd16e",
   "metadata": {},
   "outputs": [],
   "source": [
    "x,y = c0.shape\n",
    "print(x,y)"
   ]
  },
  {
   "cell_type": "code",
   "execution_count": null,
   "id": "304a4075-74ed-4354-8cfb-4ad132d9b063",
   "metadata": {},
   "outputs": [],
   "source": []
  },
  {
   "cell_type": "code",
   "execution_count": 11,
   "id": "abe1b82f-9faf-4259-a6a4-c957554cd577",
   "metadata": {},
   "outputs": [
    {
     "name": "stdout",
     "output_type": "stream",
     "text": [
      "[1. 1. 1. ... 1. 1. 1.]\n"
     ]
    }
   ],
   "source": [
    "asdf = np.ones(1024)\n",
    "print(asdf)"
   ]
  },
  {
   "cell_type": "code",
   "execution_count": 12,
   "id": "38b49ac2-6dfc-4ca9-8e80-90d0de2cc31f",
   "metadata": {},
   "outputs": [
    {
     "name": "stdout",
     "output_type": "stream",
     "text": [
      "[0. 0. 0. ... 0. 0. 0.]\n"
     ]
    }
   ],
   "source": [
    "asdf[...] = 0\n",
    "print(asdf)"
   ]
  },
  {
   "cell_type": "code",
   "execution_count": null,
   "id": "9aedac45-926d-4d66-879e-0dea3fcbd290",
   "metadata": {},
   "outputs": [],
   "source": [
    "def resizeperftest(n_ops):\n",
    "    dt_set = np.zeros(n_ops)\n",
    "    try:\n",
    "        for i in range(n_ops):\n",
    "            x,y = c0.shape\n",
    "            newshape = (x,y+488)\n",
    "            t = time.perf_counter_ns()\n",
    "            c0.resize(newshape)\n",
    "            dt = time.perf_counter_ns()-t\n",
    "            dt_set[i] = dt\n",
    "        return dt_set\n",
    "    except KeyboardInterrupt:\n",
    "        return dt_set"
   ]
  },
  {
   "cell_type": "code",
   "execution_count": null,
   "id": "d44e98d1-44c3-4799-b579-92bca64c2fc9",
   "metadata": {},
   "outputs": [],
   "source": [
    "tdata = resizeperftest(10000)\n",
    "\n",
    "print(f\"tdata in us -> {tdata/1e3}\")\n",
    "c0.shape"
   ]
  },
  {
   "cell_type": "code",
   "execution_count": null,
   "id": "49c24f94-2e59-48e5-8b1b-2d6ca9b9f96a",
   "metadata": {},
   "outputs": [],
   "source": [
    "testresults = [\n",
    "    np.mean(resizeperftest(1)),\n",
    "    np.mean(resizeperftest(100)),\n",
    "    np.mean(resizeperftest(1000)),\n",
    "    np.mean(resizeperftest(10_000)),\n",
    "    np.mean(resizeperftest(1_000_000))\n",
    "]"
   ]
  },
  {
   "cell_type": "code",
   "execution_count": null,
   "id": "9ede5ac5-5374-4e68-b971-7a882ddd110c",
   "metadata": {},
   "outputs": [],
   "source": [
    "_ = [print(f\"mean resize timecost in us {test/1e3}\") for test in testresults]"
   ]
  },
  {
   "cell_type": "code",
   "execution_count": null,
   "id": "8f286060-7a55-417e-857e-f1309bc0009d",
   "metadata": {},
   "outputs": [],
   "source": [
    "def perfTest(fn, args):\n",
    "    t = time.perf_counter_ns()\n",
    "    r = fn(*args)\n",
    "    t2 = time.perf_counter_ns()\n",
    "    return (r,t2-t1)"
   ]
  },
  {
   "cell_type": "code",
   "execution_count": null,
   "id": "cd19044f-ef2f-425a-b5a6-2e5e5b904c19",
   "metadata": {},
   "outputs": [],
   "source": []
  }
 ],
 "metadata": {
  "kernelspec": {
   "display_name": "Python 3 (ipykernel)",
   "language": "python",
   "name": "python3"
  },
  "language_info": {
   "codemirror_mode": {
    "name": "ipython",
    "version": 3
   },
   "file_extension": ".py",
   "mimetype": "text/x-python",
   "name": "python",
   "nbconvert_exporter": "python",
   "pygments_lexer": "ipython3",
   "version": "3.10.6"
  }
 },
 "nbformat": 4,
 "nbformat_minor": 5
}
