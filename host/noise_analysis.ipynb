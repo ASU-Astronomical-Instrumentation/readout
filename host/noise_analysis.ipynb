{
 "cells": [
  {
   "cell_type": "markdown",
   "metadata": {},
   "source": [
    "# Noise Analysis\n",
    "Import our standard tools"
   ]
  },
  {
   "cell_type": "code",
   "execution_count": 1,
   "metadata": {},
   "outputs": [],
   "source": [
    "import numpy as np\n",
    "import matplotlib.pyplot as plt\n",
    "from scipy.signal import welch # power spectral density fxn.\n",
    "from time import sleep\n",
    "import time, os\n",
    "import datetime"
   ]
  },
  {
   "cell_type": "markdown",
   "metadata": {},
   "source": [
    "Now, we will import our udp tools from udpcap.py. We'll save the data to a timestamped file and extract our I/Q data."
   ]
  },
  {
   "cell_type": "code",
   "execution_count": 2,
   "metadata": {},
   "outputs": [
    {
     "name": "stdout",
     "output_type": "stream",
     "text": [
      "192.168.3.40\n",
      "4096\n"
     ]
    }
   ],
   "source": [
    "import udpcap\n",
    "cap = udpcap.udpcap()"
   ]
  },
  {
   "cell_type": "code",
   "execution_count": 3,
   "metadata": {},
   "outputs": [],
   "source": [
    "# Create our connection \n",
    "cap.bindSocket()"
   ]
  },
  {
   "cell_type": "code",
   "execution_count": 5,
   "metadata": {},
   "outputs": [
    {
     "ename": "KeyboardInterrupt",
     "evalue": "",
     "output_type": "error",
     "traceback": [
      "\u001b[0;31m---------------------------------------------------------------------------\u001b[0m",
      "\u001b[0;31mKeyboardInterrupt\u001b[0m                         Traceback (most recent call last)",
      "\u001b[0;32m<ipython-input-5-f2dba0263eff>\u001b[0m in \u001b[0;36m<module>\u001b[0;34m\u001b[0m\n\u001b[1;32m      2\u001b[0m \u001b[0mfname\u001b[0m \u001b[0;34m=\u001b[0m \u001b[0;34m'udpData{0:%Y%m%d%H%M%S}'\u001b[0m\u001b[0;34m.\u001b[0m\u001b[0mformat\u001b[0m\u001b[0;34m(\u001b[0m\u001b[0mdatetime\u001b[0m\u001b[0;34m.\u001b[0m\u001b[0mdatetime\u001b[0m\u001b[0;34m.\u001b[0m\u001b[0mnow\u001b[0m\u001b[0;34m(\u001b[0m\u001b[0;34m)\u001b[0m\u001b[0;34m)\u001b[0m\u001b[0;34m\u001b[0m\u001b[0;34m\u001b[0m\u001b[0m\n\u001b[1;32m      3\u001b[0m \u001b[0mnpoints\u001b[0m \u001b[0;34m=\u001b[0m \u001b[0;36m1024\u001b[0m\u001b[0;34m\u001b[0m\u001b[0;34m\u001b[0m\u001b[0m\n\u001b[0;32m----> 4\u001b[0;31m \u001b[0mdata\u001b[0m \u001b[0;34m=\u001b[0m \u001b[0mcap\u001b[0m\u001b[0;34m.\u001b[0m\u001b[0mcapture_packets\u001b[0m\u001b[0;34m(\u001b[0m\u001b[0mnpoints\u001b[0m\u001b[0;34m)\u001b[0m\u001b[0;34m\u001b[0m\u001b[0;34m\u001b[0m\u001b[0m\n\u001b[0m\u001b[1;32m      5\u001b[0m \u001b[0mnp\u001b[0m\u001b[0;34m.\u001b[0m\u001b[0msave\u001b[0m\u001b[0;34m(\u001b[0m\u001b[0mfname\u001b[0m\u001b[0;34m,\u001b[0m \u001b[0mdata\u001b[0m\u001b[0;34m)\u001b[0m\u001b[0;34m\u001b[0m\u001b[0;34m\u001b[0m\u001b[0m\n",
      "\u001b[0;32m~/Desktop/udpethernet/characterization/udpcap.py\u001b[0m in \u001b[0;36mcapture_packets\u001b[0;34m(self, N_packets)\u001b[0m\n\u001b[1;32m     31\u001b[0m         \u001b[0;31m#packets = np.zeros(shape=(2051,N_packets))\u001b[0m\u001b[0;34m\u001b[0m\u001b[0;34m\u001b[0m\u001b[0;34m\u001b[0m\u001b[0m\n\u001b[1;32m     32\u001b[0m         \u001b[0;32mfor\u001b[0m \u001b[0mi\u001b[0m \u001b[0;32min\u001b[0m \u001b[0mrange\u001b[0m\u001b[0;34m(\u001b[0m\u001b[0mN_packets\u001b[0m\u001b[0;34m)\u001b[0m\u001b[0;34m:\u001b[0m\u001b[0;34m\u001b[0m\u001b[0;34m\u001b[0m\u001b[0m\n\u001b[0;32m---> 33\u001b[0;31m             \u001b[0mdata_2\u001b[0m \u001b[0;34m=\u001b[0m \u001b[0mself\u001b[0m\u001b[0;34m.\u001b[0m\u001b[0mparse_packet\u001b[0m\u001b[0;34m(\u001b[0m\u001b[0;34m)\u001b[0m\u001b[0;34m\u001b[0m\u001b[0;34m\u001b[0m\u001b[0m\n\u001b[0m\u001b[1;32m     34\u001b[0m             \u001b[0mpackets\u001b[0m\u001b[0;34m[\u001b[0m\u001b[0;34m:\u001b[0m\u001b[0;34m,\u001b[0m\u001b[0mi\u001b[0m\u001b[0;34m]\u001b[0m \u001b[0;34m=\u001b[0m \u001b[0mdata_2\u001b[0m\u001b[0;34m\u001b[0m\u001b[0;34m\u001b[0m\u001b[0m\n\u001b[1;32m     35\u001b[0m         \u001b[0;32mreturn\u001b[0m \u001b[0mpackets\u001b[0m\u001b[0;34m\u001b[0m\u001b[0;34m\u001b[0m\u001b[0m\n",
      "\u001b[0;32m~/Desktop/udpethernet/characterization/udpcap.py\u001b[0m in \u001b[0;36mparse_packet\u001b[0;34m(self)\u001b[0m\n\u001b[1;32m     20\u001b[0m \u001b[0;34m\u001b[0m\u001b[0m\n\u001b[1;32m     21\u001b[0m     \u001b[0;32mdef\u001b[0m \u001b[0mparse_packet\u001b[0m\u001b[0;34m(\u001b[0m\u001b[0mself\u001b[0m\u001b[0;34m)\u001b[0m\u001b[0;34m:\u001b[0m\u001b[0;34m\u001b[0m\u001b[0;34m\u001b[0m\u001b[0m\n\u001b[0;32m---> 22\u001b[0;31m         \u001b[0mdata\u001b[0m \u001b[0;34m=\u001b[0m \u001b[0mself\u001b[0m\u001b[0;34m.\u001b[0m\u001b[0msock\u001b[0m\u001b[0;34m.\u001b[0m\u001b[0mrecv\u001b[0m\u001b[0;34m(\u001b[0m\u001b[0;36m9000\u001b[0m\u001b[0;34m)\u001b[0m\u001b[0;34m\u001b[0m\u001b[0;34m\u001b[0m\u001b[0m\n\u001b[0m\u001b[1;32m     23\u001b[0m         \u001b[0;32mif\u001b[0m \u001b[0mlen\u001b[0m\u001b[0;34m(\u001b[0m\u001b[0mdata\u001b[0m\u001b[0;34m)\u001b[0m \u001b[0;34m<\u001b[0m  \u001b[0;36m8000\u001b[0m\u001b[0;34m:\u001b[0m\u001b[0;34m\u001b[0m\u001b[0;34m\u001b[0m\u001b[0m\n\u001b[1;32m     24\u001b[0m             \u001b[0mprint\u001b[0m\u001b[0;34m(\u001b[0m\u001b[0;34m\"invalid packet recieved\"\u001b[0m\u001b[0;34m)\u001b[0m\u001b[0;34m\u001b[0m\u001b[0;34m\u001b[0m\u001b[0m\n",
      "\u001b[0;31mKeyboardInterrupt\u001b[0m: "
     ]
    }
   ],
   "source": [
    "# Create a timestamped filename, capture packets, then save to a file\n",
    "fname = 'udpData{0:%Y%m%d%H%M%S}'.format(datetime.datetime.now())\n",
    "npoints = 1024\n",
    "data = cap.capture_packets(npoints)\n",
    "np.save(fname, data)"
   ]
  },
  {
   "cell_type": "code",
   "execution_count": 6,
   "metadata": {},
   "outputs": [],
   "source": [
    "# release connection\n",
    "cap.release()"
   ]
  },
  {
   "cell_type": "code",
   "execution_count": null,
   "metadata": {},
   "outputs": [],
   "source": [
    "I=data[::2]\n",
    "Q=data[1::2]\n"
   ]
  },
  {
   "cell_type": "code",
   "execution_count": null,
   "metadata": {},
   "outputs": [],
   "source": [
    "len(I.T[0])"
   ]
  },
  {
   "cell_type": "code",
   "execution_count": null,
   "metadata": {},
   "outputs": [],
   "source": [
    "# view I/Q magnitude\n",
    "Iacc_f = I.T[0][:]/2**10#.astype(\"float\")\n",
    "Qacc_f = Q.T[0][:]/2**10#.astype(\"float\")\n",
    "Ia, Qa = np.array(Iacc_f).astype(float), np.array(Qacc_f).astype(float)\n",
    "IQMAG=np.sqrt(Ia**2+Qa**2)\n",
    "\n",
    "\n",
    "plt.figure(figsize=(18,12))\n",
    "#plt.xlim(0,150)\n",
    "plt.plot(IQMAG[0:1024][:],\"-+\")\n",
    "#plt.ylim(0,60)\n",
    "\n",
    "\n",
    "np.argmax(IQMAG)"
   ]
  },
  {
   "cell_type": "code",
   "execution_count": null,
   "metadata": {},
   "outputs": [],
   "source": [
    "plt.figure(figsize=(18,12))\n",
    "#plt.xlim(0,150)\n",
    "plt.plot(IQMAG[0:1024][:],\"-+\")\n",
    "#plt.ylim(0,60)"
   ]
  },
  {
   "cell_type": "code",
   "execution_count": null,
   "metadata": {},
   "outputs": [],
   "source": [
    "np.argmax(abs(I[:,0]))"
   ]
  },
  {
   "cell_type": "code",
   "execution_count": null,
   "metadata": {},
   "outputs": [],
   "source": [
    "c=33# data index with channel data\n",
    "f,Spp=welch(np.arctan2(Q[c,:],I[c,:]),fs=512e6/2**(10+10),nperseg=1024)\n",
    "plt.figure()\n",
    "plt.plot(Q[c,:]-np.mean(Q[c,:]))\n",
    "plt.figure()\n",
    "plt.plot(I[c,:]-np.mean(I[c,:]))\n",
    "print(np.mean(I[c,:]))\n",
    "print(np.mean(Q[c,:]))\n",
    "plt.figure()\n",
    "plt.semilogx(f[2:],10*np.log10(Spp)[2:],\"-+\",label=\"10-tone\")"
   ]
  },
  {
   "cell_type": "code",
   "execution_count": null,
   "metadata": {},
   "outputs": [],
   "source": [
    "# create detector-detector correlation matrix\n",
    "Z = I + 1j*Q\n",
    "deproj_I = I\n",
    "deproj_Q = Q\n",
    "correlation_matrix = np.matmul(Z,np.conj(np.transpose(Z)))\n",
    "# calculate the eigenmodes of the correlation matrix\n",
    "w,v = np.linalg.eig(correlation_matrix)\n",
    "print(w)\n",
    "# create a template based on the largest eigenmode\n",
    "template = np.matmul(v[:,0],Z)\n",
    "template1 = np.matmul(v[:,1],Z)\n",
    "\n",
    "template_real = np.real(template)-np.mean(np.real(template))\n",
    "template_imag = np.imag(template)-np.mean(np.imag(template))\n",
    "template_z = template_real + 1j*template_imag\n",
    "\n",
    "template1_real = np.real(template1)-np.mean(np.real(template1))\n",
    "template1_imag = np.imag(template1)-np.mean(np.imag(template1))\n",
    "template1_z = template1_real + 1j*template1_imag\n",
    "\n",
    "# rotate so that the signal is in one quadrature\n",
    "template_corr = np.matmul(template_imag,np.transpose(template_real))/np.matmul(template_real,np.transpose(template_real))\n",
    "template_imag_new = template_imag - template_real*template_corr\n",
    "template_real_new = (template_imag + template_imag*template_corr)/2\n",
    "template_real = template_real_new\n",
    "template_imag = template_imag_new\n",
    "\n",
    "# rotate so that the signal is in one quadrature\n",
    "#template1_corr = np.matmul(template1_imag,np.transpose(template1_real))/np.matmul(template1_real,np.transpose(template1_real))\n",
    "#template1_imag_new = template1_imag - template1_real*template1_corr\n",
    "#template1_real_new = (template1_imag + template1_real*template1_corr)/2\n",
    "#template1_real = template1_real_new\n",
    "#template1_imag = template1_imag_new\n",
    "\n",
    "# plot the templates\n",
    "\n",
    "plt.figure()\n",
    "plt.plot(template_real,label='I')\n",
    "plt.plot(template_imag,label='Q')\n",
    "plt.legend()\n",
    "\n",
    "plt.figure()\n",
    "plt.plot(template1_real,label='I')\n",
    "#plt.plot(template1_imag,label='Q')\n",
    "plt.legend()\n",
    "plt.figure()\n",
    "plt.plot(template1_imag,label='Q')\n",
    "#plt.plot(template1_imag,label='Q')\n",
    "plt.legend()\n",
    "# based on looking at the template, define the imaginary part to be zero\n",
    "#template = np.real(template) + 0.0j"
   ]
  },
  {
   "cell_type": "code",
   "execution_count": null,
   "metadata": {},
   "outputs": [],
   "source": [
    "c = 35\n",
    "# get the complex signal from the current detector\n",
    "complex_detector_signal = Z[c,:]\n",
    "# calculate the dot product with the template\n",
    "#corr_with_template = np.matmul(complex_detector_signal,np.transpose(template_z))/np.matmul(template_z,np.conj(np.transpose(template_z)))\n",
    "corr_with_real_i = np.matmul(I[c,:],np.transpose(template_real))/np.matmul(template_real,np.transpose(template_real))\n",
    "print(corr_with_real_i)\n",
    "corr_with_real_q = np.matmul(Q[c,:],np.transpose(template_real))/np.matmul(template_real,np.transpose(template_real))\n",
    "print(corr_with_real_q)\n",
    "# remove the template from the signal\n",
    "corr_with_imag_i = np.matmul(I[c,:],np.transpose(template_imag))/np.matmul(template_imag,np.transpose(template_imag))\n",
    "print(corr_with_imag_i)\n",
    "corr_with_imag_q = np.matmul(Q[c,:],np.transpose(template_imag))/np.matmul(template_imag,np.transpose(template_imag))\n",
    "print(corr_with_imag_q)\n",
    "# remove the template from the signal\n",
    "deprojected_detector_i = I[c,:]-corr_with_real_i*template_real#-corr_with_imag_i*template_imag\n",
    "deprojected_detector_q = Q[c,:]-corr_with_real_q*template_real#-corr_with_imag_q*template_imag\n",
    "\n",
    "complex_deprojected_detector_signal = deprojected_detector_i + 1j*deprojected_detector_q\n",
    "#complex_deprojected_detector_signal = complex_detector_signal - corr_with_template*template_z\n",
    "# plot I and Q for both\n",
    "plt.figure()\n",
    "\n",
    "plt.plot(I[c,:] - np.mean(I[c,:]),label='Raw Detector #'+str(c)+' Raw I Signal')\n",
    "plt.plot(deprojected_detector_i - np.mean(deprojected_detector_i),label='Template Deprojected')\n",
    "\n",
    "#plt.plot(np.real(complex_detector_signal) - np.mean(np.real(complex_detector_signal)),label='Raw Detector #'+str(c)+' Phase Signal')\n",
    "#plt.plot(np.real(complex_deprojected_detector_signal) - np.mean(np.real(complex_deprojected_detector_signal)),label='Template Deprojected')\n",
    "plt.legend()\n",
    "plt.ylabel('I')\n",
    "plt.figure()\n",
    "\n",
    "plt.plot(Q[c,:] - np.mean(Q[c,:]),label='Raw Detector #'+str(c)+' Raw Q Signal')\n",
    "plt.plot(deprojected_detector_q - np.mean(deprojected_detector_q),label='Template Deprojected')\n",
    "\n",
    "#plt.plot(np.imag(complex_detector_signal) - np.mean(np.imag(complex_detector_signal)),label='Raw Detector #'+str(c)+' Phase Signal')\n",
    "#plt.plot(np.imag(complex_deprojected_detector_signal) - np.mean(np.imag(complex_deprojected_detector_signal)),label='Template Deprojected')\n",
    "plt.legend()\n",
    "plt.ylabel('Q')\n",
    "\n",
    "f,Spp_detector_signal=welch(np.arctan2(np.imag(complex_detector_signal),np.real(complex_detector_signal)),fs=512e6/2**(10+10),nperseg=npoints)\n",
    "f,Spp_deprojected_detector_signal=welch(np.arctan2(np.imag(complex_deprojected_detector_signal),np.real(complex_deprojected_detector_signal)),fs=512e6/2**(10+10),nperseg=npoints)\n",
    "\n",
    "#f,Spp_detector_signal=welch(np.arctan2(np.imag(complex_detector_signal),np.real(complex_detector_signal)),fs=512e6/2**(10+10),nperseg=1024)\n",
    "#f,Spp_deprojected_detector_signal=welch(np.arctan2(np.imag(complex_deprojected_detector_signal),np.real(complex_deprojected_detector_signal)),fs=512e6/2**(10+10),nperseg=1024)\n",
    "plt.figure()\n",
    "plt.semilogx(f[2:],10*np.log10(Spp_detector_signal)[2:],\"-+\",label=\"Raw Signal\")\n",
    "plt.semilogx(f[2:],10*np.log10(Spp_deprojected_detector_signal)[2:],\"-+\",label=\"Deprojected\")\n",
    "plt.legend()\n",
    "\n",
    "norm = np.mean(np.abs(complex_deprojected_detector_signal))\n",
    "print(norm)\n",
    "f,Spp_detector_signal_i=welch(np.real(complex_detector_signal)/norm,fs=512e6/2**(10+10),nperseg=npoints)\n",
    "f,Spp_deprojected_detector_signal_i=welch(np.real(complex_deprojected_detector_signal)/norm,fs=512e6/2**(10+10),nperseg=npoints)\n",
    "\n",
    "#f,Spp_detector_signal=welch(np.arctan2(np.imag(complex_detector_signal),np.real(complex_detector_signal)),fs=512e6/2**(10+10),nperseg=1024)\n",
    "#f,Spp_deprojected_detector_signal=welch(np.arctan2(np.imag(complex_deprojected_detector_signal),np.real(complex_deprojected_detector_signal)),fs=512e6/2**(10+10),nperseg=1024)\n",
    "plt.figure()\n",
    "plt.semilogx(f[2:],10*np.log10(Spp_detector_signal_i)[2:],\"-+\",label=\"Raw Signal I\")\n",
    "plt.semilogx(f[2:],10*np.log10(Spp_deprojected_detector_signal_i)[2:],\"-+\",label=\"Deprojected I\")\n",
    "plt.legend()\n",
    "print(np.mean(10*np.log10(Spp_deprojected_detector_signal_i)[2:]))"
   ]
  },
  {
   "cell_type": "code",
   "execution_count": null,
   "metadata": {
    "scrolled": false
   },
   "outputs": [],
   "source": [
    "chnls = range(0,128)\n",
    "for i in chnls:\n",
    "    sleep(1)\n",
    "    f,Spp=welch(np.arctan2(Q[i,:],I[i,:]),fs=512e6/2**20,nperseg=npoints)\n",
    "    l=len(Spp)\n",
    "    if np.mean(Spp[l//7:])>1e-7:\n",
    "#     if(1==1):\n",
    "        plt.figure(figsize=(16,9))\n",
    "\n",
    "        plt.subplot(231)\n",
    "        plt.ylabel(f\"i={i}\",fontsize=16)\n",
    "        plt.plot(I[i,:],color=\"green\"); \n",
    "        plt.plot(Q[i,:],color=\"blue\"); # +/-1e7\n",
    "\n",
    "        plt.subplot(232)\n",
    "        plt.plot(I[i,:],color=\"green\"); \n",
    "\n",
    "        plt.subplot(233)\n",
    "        plt.plot(Q[i,:],color=\"blue\"); # +/-1e7\n",
    "        \n",
    "        plt.subplot(2,3,(4,6) )\n",
    "       \n",
    "        plt.loglog(f,Spp,color=\"firebrick\",alpha=1,marker=\"+\"); plt.ylim(1e-7,1e-1);\n",
    "        plt.ylabel(r\"$S_{\\phi \\phi}$ [dBc/Hz]\",fontsize=12)\n",
    "        plt.xlabel(\"[Hz]\",fontsize=12)\n",
    "        plt.grid()\n",
    "\n",
    "        plt.axhline(np.mean(Spp[l//7:]),color=\"black\")\n",
    "        plt.axvspan(f[l//7], f[-1], alpha=0.5, color='grey')\n",
    "#         plt.savefig(f\"./figs/chnl-{i}_{fname}\")       "
   ]
  },
  {
   "cell_type": "code",
   "execution_count": null,
   "metadata": {
    "scrolled": false
   },
   "outputs": [],
   "source": [
    "chnls = range(0,256)\n",
    "plt.figure(figsize=(11,12))\n",
    "\n",
    "#plt.subplot(211)\n",
    "plt.title(\"100-tones-2 (-200,200)\")\n",
    "#plt.plot(I[c,0])\n",
    "#plt.plot(Q[c,0])\n",
    "#plt.subplot(212)\n",
    "nfs = np.int(np.log2(npoints))\n",
    "f_interp = np.zeros(nfs)\n",
    "Spp_i_interp = np.zeros(nfs)\n",
    "Spp_q_interp = np.zeros(nfs)\n",
    "Smean=[]\n",
    "norms=[]\n",
    "for chnl in chnls:\n",
    "    complex_detector_signal = Z[chnl,:]\n",
    "    if np.mean(np.abs(complex_detector_signal)) > 100:\n",
    "# calculate the dot product with the template\n",
    "#corr_with_template = np.matmul(complex_detector_signal,np.transpose(template_z))/np.matmul(template_z,np.conj(np.transpose(template_z)))\n",
    "        corr_with_real_i = np.matmul(I[chnl,:],np.transpose(template_real))/np.matmul(template_real,np.transpose(template_real))\n",
    "        print(corr_with_real_i)\n",
    "        corr_with_real_q = np.matmul(Q[chnl,:],np.transpose(template_real))/np.matmul(template_real,np.transpose(template_real))\n",
    "        print(corr_with_real_q)\n",
    "        corr_with_imag_i = np.matmul(I[chnl,:],np.transpose(template_imag))/np.matmul(template_imag,np.transpose(template_imag))\n",
    "        print(corr_with_imag_i)\n",
    "        corr_with_imag_q = np.matmul(Q[chnl,:],np.transpose(template_imag))/np.matmul(template_imag,np.transpose(template_imag))\n",
    "        print(corr_with_imag_q)\n",
    "# remove the template from the signal\n",
    "        deprojected_detector_i = I[chnl,:]-corr_with_real_i*template_real#-corr_with_imag_i*template_imag\n",
    "        deprojected_detector_q = Q[chnl,:]-corr_with_real_q*template_real#-corr_with_imag_q*template_imag\n",
    "\n",
    "        complex_deprojected_detector_signal = deprojected_detector_i + 1j*deprojected_detector_q\n",
    "        norm = np.mean(np.abs(complex_deprojected_detector_signal))\n",
    "        print(norm)\n",
    "        norms.append(norm)\n",
    "\n",
    "#print(norm)\n",
    "#f,Spp_detector_signal_i=welch(np.real(complex_detector_signal)/norm,fs=512e6/2**(10+10),nperseg=npoints)\n",
    "        f,Spp_i=welch(np.real(complex_deprojected_detector_signal)/norm,fs=512e6/2**(10+10),nperseg=npoints)\n",
    "        f,Spp_q=welch(np.imag(complex_deprojected_detector_signal)/norm,fs=512e6/2**(10+10),nperseg=npoints)\n",
    "\n",
    "        \n",
    "        f,Spp=welch(np.arctan2(Q[chnl,:],I[chnl,:]),fs=512e6/2**20,nperseg=npoints)\n",
    "        #plt.semilogx(f[2:],10*np.log10(Spp_i)[2:],\"-+\",color=\"cyan\",alpha=0.2,label=\"Deprojected I\")\n",
    "        #plt.semilogx(f[2:],10*np.log10(Spp_q)[2:],\"-+\",color=\"orange\",alpha=0.2,label=\"Deprojected Q\")\n",
    "\n",
    "        for j in range(0,nfs-1):\n",
    "            f_interp[j] = np.mean(f[2**j:2**(j+1)])\n",
    "            Spp_i_interp[j] = np.mean(Spp_i[2**j:2**(j+1)])\n",
    "            Spp_q_interp[j] = np.mean(Spp_q[2**j:2**(j+1)])\n",
    "        plt.semilogx(f_interp[:],10*np.log10(Spp_i_interp)[:],\"-+\",color=\"cyan\",alpha=0.4,label=\"Deprojected I\")\n",
    "        plt.semilogx(f_interp[:],10*np.log10(Spp_q_interp)[:],\"-+\",color=\"orange\",alpha=0.4,label=\"Deprojected Q\")\n",
    "\n",
    "        #plt.loglog(f,Spp_i,color=\"firebrick\",alpha=.40)\n",
    "        Smean.append(np.mean(np.log10(Spp_i)))\n",
    "\n",
    "plt.ylabel(r\"$S_{\\phi \\phi}$ [dBc/Hz]\", fontsize=16); \n",
    "plt.xlabel(\"[MHz]\", fontsize=16)\n",
    "plt.ylim(-150,-50)\n",
    "plt.grid()\n",
    "\n",
    "# Export plot to folder and display\n",
    "fname = 'noisePlot{0:%Y%m%d%H%M%S}.png'.format(datetime.datetime.now())\n",
    "plt.savefig(fname)\n",
    "plt.show()\n",
    "\n",
    "plt.plot(norms)\n",
    "plt.show\n",
    "# plt.hist(Smean,bins=10)\n",
    "# plt.show()\n",
    "#plt.plot(Svar)\n",
    "#plt.show()"
   ]
  },
  {
   "cell_type": "code",
   "execution_count": null,
   "metadata": {},
   "outputs": [],
   "source": [
    "f_interp = np.array(nfs)\n",
    "print(f_interp)\n",
    "print(np.mean(f[2**j:2**(j+1)]))"
   ]
  },
  {
   "cell_type": "code",
   "execution_count": null,
   "metadata": {},
   "outputs": [],
   "source": [
    "print(np.int(np.log2(npoints)))"
   ]
  },
  {
   "cell_type": "code",
   "execution_count": null,
   "metadata": {},
   "outputs": [],
   "source": []
  }
 ],
 "metadata": {
  "kernelspec": {
   "display_name": "Python 3",
   "language": "python",
   "name": "python3"
  },
  "language_info": {
   "codemirror_mode": {
    "name": "ipython",
    "version": 3
   },
   "file_extension": ".py",
   "mimetype": "text/x-python",
   "name": "python",
   "nbconvert_exporter": "python",
   "pygments_lexer": "ipython3",
   "version": "3.7.6"
  }
 },
 "nbformat": 4,
 "nbformat_minor": 4
}
