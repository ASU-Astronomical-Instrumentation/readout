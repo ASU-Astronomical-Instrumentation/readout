{
 "cells": [
  {
   "cell_type": "code",
   "execution_count": 1,
   "id": "583f28a2",
   "metadata": {},
   "outputs": [],
   "source": [
    "import socket\n",
    "import numpy as np\n",
    "import matplotlib.pyplot as plt\n",
    "from time import sleep\n",
    "from scipy import signal\n",
    "import pandas as pd\n",
    "import struct"
   ]
  },
  {
   "cell_type": "code",
   "execution_count": 2,
   "id": "3b02c851",
   "metadata": {},
   "outputs": [],
   "source": [
    "UDP_IP = \"192.168.3.40\"\n",
    "UDP_PORT = 4096\n",
    "\n",
    "sock = socket.socket(socket.AF_INET, socket.SOCK_DGRAM)\n",
    "sock.bind((UDP_IP,UDP_PORT))"
   ]
  },
  {
   "cell_type": "code",
   "execution_count": 3,
   "id": "a6c148d9",
   "metadata": {},
   "outputs": [],
   "source": [
    "# def parse_packet():\n",
    "#   data = sock.recv(9000)\n",
    "#   if len(data) <  8000:\n",
    "#     print(\"invalid packet recieved\")\n",
    "#   print(len(data))\n",
    "#   spec_data = np.frombuffer(data, dtype = '<i')\n",
    "#   return spec_data # int32 data type"
   ]
  },
  {
   "cell_type": "code",
   "execution_count": 141,
   "id": "7270616b",
   "metadata": {},
   "outputs": [],
   "source": [
    "def parse_packet():\n",
    "  data = sock.recv(8208 * 1)\n",
    "  if len(data) <  8000:\n",
    "    print(\"invalid packet recieved\")\n",
    "  print(len(data))\n",
    "# to change byte assignments in data - we need to make it a bytarray because bytes type is not changable\n",
    "  datarray = bytearray(data)\n",
    "#  datarray[38:40] = datarray[54:56]\n",
    "# the above step unrolls the c0ffee data stream\n",
    "  for i in range(499):\n",
    "        datarray[214+i*16:216+i*16]=datarray[230+i*16:232+i*16]\n",
    "#  datarray[54:56] = b'\\x00\\x00'\n",
    "# the above step redefines the next bytes after c0ffee as zeros\n",
    "\n",
    "# after looking at the data - it appears that it is in little endian format which is good\n",
    "# the LSB is in address 238 or 239 (not sure about indexing)\n",
    "\n",
    "  print(datarray[200:250])\n",
    "# now allow a shift of the bytes\n",
    "  byte_off = 6\n",
    "  for i in range(byte_off):\n",
    "    datarray.append(0)\n",
    "  spec_data = np.frombuffer(datarray, dtype = '<i', offset = byte_off)\n",
    "# offset allows a shift in the bytes\n",
    "  return spec_data # int32 data type\n"
   ]
  },
  {
   "cell_type": "code",
   "execution_count": 178,
   "id": "ed9973f3",
   "metadata": {},
   "outputs": [
    {
     "name": "stdout",
     "output_type": "stream",
     "text": [
      "8208\n",
      "bytearray(b'\\x00\\x00\\x00\\x00\\x00\\x00\\x00\\x00\\x00\\x00\\x00\\x00\\x00\\x00\\x9d\\xcc\\x07\\x00\\x9f\\xeb\\xf9\\xff7@\\xf6\\xff\\xb6\\x9d\\xfe\\xffM\\xda\\xff\\xffX;\\xf6\\xff\\xd3\\x8b\\xf6\\xff*$\\x02\\x00u\\x91\\x06\\x00')\n",
      "1026\n",
      "[   0.          499.15332031 -623.94628906   -9.42480469 -605.04394531]\n",
      "[   0.         -389.09472656  -88.57226562 -625.1640625   137.04101562]\n"
     ]
    },
    {
     "data": {
      "text/plain": [
       "[<matplotlib.lines.Line2D at 0x7f61443bf0d0>]"
      ]
     },
     "execution_count": 178,
     "metadata": {},
     "output_type": "execute_result"
    },
    {
     "data": {
      "image/png": "[encoded data removed]",
      "text/plain": [
       "<Figure size 1008x720 with 1 Axes>"
      ]
     },
     "metadata": {
      "needs_background": "light"
     },
     "output_type": "display_data"
    }
   ],
   "source": [
    "d = parse_packet()\n",
    "data1 = np.array(d).astype(\"float\")/2**10\n",
    "I=data1[::2]\n",
    "Q=data1[1::2]\n",
    "print(len(Q))\n",
    "print(I[25:30])\n",
    "print(Q[25:30])\n",
    "plt.figure(figsize=(14,10))\n",
    "plt.xlim(0,128)\n",
    "plt.plot(I**2 + Q**2)"
   ]
  },
  {
   "cell_type": "code",
   "execution_count": null,
   "id": "7df05d17",
   "metadata": {},
   "outputs": [],
   "source": [
    "data = sock.recv(8208 * 1)\n",
    "ord(data[248])  "
   ]
  },
  {
   "cell_type": "code",
   "execution_count": null,
   "id": "11de2472",
   "metadata": {},
   "outputs": [],
   "source": [
    "def parse_packet():\n",
    "  data = sock.recv(9000)\n",
    "  if len(data) <  8000:\n",
    "    print(\"invalid packet recieved\")\n",
    "  spec_data = np.fromstring(data, dtype = '<i')\n",
    "  return spec_data # int32 data type\n",
    "\n",
    "\n",
    "\n",
    "def get_timestamp(timestamp_data):\n",
    "    \"\"\"\n",
    "      Casting packet timing information \n",
    "    \"\"\"\n",
    "    td=int(timestamp_data,16)\n",
    "#     print(timestamp_data)\n",
    "#     print(td)\n",
    "    free_count   = (td & int(\"FFFFFFFF0000000000000000000000\",16))>>88\n",
    "    packet_count = (td & int(\"00000000FFFFFFFF00000000000000\",16))>>56\n",
    "    pps_count    = (td & int(\"0000000000000000FFFFFFFF000000\",16))>>24\n",
    "    GPIO         = (td & int(\"000000000000000000000000FFFF00\",16))>>8 \n",
    "    PMOD         = (td & int(\"0000000000000000000000000000FF\",16))    \n",
    "\n",
    "    return (free_count, packet_count, pps_count, GPIO, PMOD)\n",
    "\n",
    "def check_pps_count():\n",
    "  pcount=[]\n",
    "  for i in range(25):\n",
    "    sleep(0.5)\n",
    "    t_info, _ = parse_packet()\n",
    "    (_, _, pps_count, _, _) = get_timestamp(t_info)\n",
    "    #(_, packet_count, _, _, _) = get_timestamp(t_info)\n",
    "    pcount.append(pps_count)\n",
    "  return np.array(pcount)\n",
    "\n",
    "def check_packet_count():\n",
    "  pcount=[]\n",
    "  for i in range(25):\n",
    "    sleep(0.5)\n",
    "    t_info, _ = parse_packet()\n",
    "    #(_, _, pps_count, _, _) = get_timestamp(t_info)\n",
    "    (_, packet_count, _, _, _) = get_timestamp(t_info)\n",
    "    pcount.append(packet_count)\n",
    "  return np.array(pcount)\n",
    "\n",
    "\n",
    "def print_time():\n",
    "  t_info, _ = parse_packet()\n",
    "  (free_count, packet_count, pps_count, GPIO, PMOD) = get_timestamp(t_info)\n",
    "  #print(\"\"\"\n",
    "  #free_count    |  0x{free_count  :x}\n",
    "  #packet_count  |  0x{packet_count:x}\n",
    "  #pps_count     |  0x{pps_count   :x}\n",
    "  #GPIO          |  0x{GPIO        :x}\n",
    "  #PMOD          |  {PMOD        :b}b\n",
    "  #\"\"\")\n",
    "\n",
    "  return\n",
    "\n",
    "def print_max_value():\n",
    "  for i in range(100000):\n",
    "    data = parse_packet()\n",
    "    I, Q = data[0::2], data[1::2]\n",
    "    maxI_idx = np.where(abs(I)==max(abs(I)))[0][0]\n",
    "    maxQ_idx = np.where(abs(Q)==max(abs(Q)))[0][0]\n",
    "    print(str(maxI_idx)+\" \"+str(I[maxI_idx])+\" \"+str(maxQ_idx)+\" \"+str(Q[maxQ_idx]))\n",
    "  return 0\n",
    "\n",
    "def print_packet_data(Ichan, Qchan):\n",
    "  for i in range(100000):\n",
    "    data_2 = parse_packet()\n",
    "    print(str(data_2[Ichan])+\" \" +str(data_2[Qchan]))\n",
    "  return 0\n",
    "\n",
    "def otra_print_packet_data(pkt_index):\n",
    "  chan=2*pkt_index\n",
    "  for i in range(100000):\n",
    "    data_2 = parse_packet()\n",
    "    print(\"I: {} Q: {}\".format(data_2[chan+1],data_2[chan]))\n",
    "  return 0\n",
    "\n",
    "def capture_packets(N_packets):\n",
    "  packets = np.zeros(shape=(2052,N_packets))\n",
    "  #packets = np.zeros(shape=(2051,N_packets))\n",
    "  for i in range(N_packets):\n",
    "    data_2 = parse_packet()\n",
    "    packets[:,i] = data_2 \n",
    "  return packets\n",
    "\n",
    "def phase_noise(I_idx, Q_idx, N_packets = 1024, nperseg=1024):\n",
    "  data = capture_packets(N_packets)\n",
    "  #I, Q = data[packet_index], np.roll(data[packet_index+1],1)\n",
    "  f, S = signal.welch(np.arctan2(data[Q_idx],data[I_idx]),fs=512e6/2**20,nperseg=nperseg)\n",
    "  plt.semilogx(f,10*np.log10(S))\n",
    "  plt.ylabel(\"dBc/Hz\", fontsize=16); plt.xlabel(\"freq.\", fontsize=16)\n",
    "  #if save:\n",
    "  #  np.savez(\"~/Pictures/phasenosie\",f,S)\n",
    "  plt.show()\n",
    "  return 0\n",
    "\n",
    "def phase_noise2(packet_index, N_packets = 1024, nperseg=1024, alpha=1.0, save=False):\n",
    "  data = capture_packets(N_packets)\n",
    "  I, Q = data[packet_index], np.roll(data[packet_index+1],1)\n",
    "  f, S = signal.welch(np.arctan2(Q,I),fs=512e6/2**20,nperseg=nperseg)\n",
    "  plt.semilogx(f,10*np.log10(S),color=\"blue\",alpha=alpha)\n",
    "  plt.ylabel(\"dBc/Hz\", fontsize=16); plt.xlabel(\"freq.\", fontsize=16)\n",
    "  plt.show()\n",
    "  if save:\n",
    "    np.savez(\"1k_phasenosie\",f,S)\n",
    "  return 0\n",
    "\n",
    "def phase_noise_all(nstart, nstop, nstep=1, N_packets = 1024, nperseg=1024,color=\"blue\", alpha=1.0):\n",
    "  data = capture_packets(N_packets)\n",
    "  for a in range(nstart,nstop,nstep):\n",
    "    I, Q = data[2*a], np.roll(data[2*a+1],1)\n",
    "    f, S = signal.welch(np.arctan2(Q,I),fs=512e6/2**20,nperseg=nperseg)\n",
    "    plt.semilogx(f,10*np.log10(S),color=color,alpha=alpha)\n",
    "  plt.ylabel(\"dBc/Hz\", fontsize=16); plt.xlabel(\"freq.\", fontsize=16)\n",
    "  plt.show()\n",
    "  return \n",
    "\n",
    "def phase_noise_iq(packet_index, N_packets = 1024, nperseg=1024):\n",
    "  data = capture_packets(N_packets)\n",
    "  I, Q = data[packet_index], np.roll(data[packet_index+1],1)\n",
    "  f, Si = signal.welch( I, fs=512e6/2**20, nperseg=nperseg)\n",
    "  f, Sq = signal.welch( Q, fs=512e6/2**20, nperseg=nperseg)\n",
    "  phi = ( Si + Sq)/(np.mean(I)**2 + np.mean(Q)**2)/2.\n",
    "  plt.semilogx(f,10*np.log10(phi),label='Phil Noise')\n",
    "  #plt.semilogx(f,10*np.log10(Si),label='I')\n",
    "  #plt.semilogx(f,10*np.log10(Sq),label='Q')\n",
    "  plt.ylabel(\"dBc/Hz\", fontsize=16); plt.xlabel(\"freq.\", fontsize=16)\n",
    "  plt.legend()\n",
    "  plt.show()\n",
    "  return 0\n",
    "\n",
    "import os\n",
    "def live_plot(beep=False,ymax=3e9):\n",
    "  plt.figure()\n",
    "  while 1:\n",
    "    data = parse_packet()\n",
    "    I, Q = data[0::2][0:1024], data[1::2][0:1024]\n",
    "    Ia, Qa = np.array(I).astype(float), np.array(Q).astype(float)\n",
    "    plt.clf()\n",
    "    IQmag=np.sqrt(Ia**2 + Qa**2)\n",
    "    if (beep and np.max(IQmag)>0.5e9):\n",
    "      os.system(\"beep -r 2\")\n",
    "      print(\"Max Found!\")\n",
    "    plt.plot(10.*np.log10(IQmag))\n",
    "    plt.ylim(1, 99)#ymax)\n",
    "    plt.xlim(0,1024)\n",
    "    plt.pause(0.01)\n",
    "  plt.show()\n",
    "  return 0\n",
    "\n",
    "def magick():\n",
    "  pkts=capture_packets(8192)\n",
    "  I=pkts[129,:]\n",
    "  Q=pkts[130,:]\n",
    "  \n",
    "  plt.subplot(211)\n",
    "  plt.hist(I,bins=1024)\n",
    "  plt.subplot(212)\n",
    "  plt.hist(Q,bins=1024)\n",
    "  plt.show()"
   ]
  },
  {
   "cell_type": "code",
   "execution_count": null,
   "id": "ed3ef1e9",
   "metadata": {},
   "outputs": [],
   "source": [
    "data = capture_packets(1024)\n",
    "np.save(\"packet-data-may272022_test1\",data)"
   ]
  },
  {
   "cell_type": "code",
   "execution_count": null,
   "id": "62648dd7",
   "metadata": {},
   "outputs": [],
   "source": [
    "data.shape # (channel, packet #)"
   ]
  },
  {
   "cell_type": "code",
   "execution_count": null,
   "id": "0f9334f9",
   "metadata": {},
   "outputs": [],
   "source": [
    "data = capture_packets(1024)\n",
    "plt.plot(abs(data[:,0]).astype(\"int32\"))\n",
    "\n",
    "plt.figure()\n",
    "x=np.argmax(abs(data[:,0]))\n",
    "c=38\n",
    "plt.plot((data[c:100,0]),\"+-\")\n",
    "plt.figure()\n",
    "plt.plot(data[21,100:200]-np.mean(data[21,100:200]),label=\"I-<I>\")\n",
    "plt.plot(data[22,100:200]-np.mean(data[22,100:200]),label=\"Q-<Q>\")\n",
    "plt.legend(); plt.show()\n",
    "plt.plot(abs(data[21,100:]-np.mean(data[21,100:])),label=\"I-<I>\")\n",
    "\n",
    "print(str(int(np.mean(data[41,100:200]))))\n",
    "print(str(int(np.mean(data[42,100:200]))))"
   ]
  },
  {
   "cell_type": "code",
   "execution_count": null,
   "id": "424e1909",
   "metadata": {},
   "outputs": [],
   "source": [
    "max(abs(data[41,100:]-np.mean(data[41,100:])))*1e-6"
   ]
  },
  {
   "cell_type": "code",
   "execution_count": null,
   "id": "bb2d7c4a",
   "metadata": {},
   "outputs": [],
   "source": [
    "min(abs(data[41,100:]-np.mean(data[41,100:])))*1e-6"
   ]
  },
  {
   "cell_type": "code",
   "execution_count": null,
   "id": "3546c382",
   "metadata": {},
   "outputs": [],
   "source": [
    "int(np.mean(data[41,100:]))"
   ]
  },
  {
   "cell_type": "code",
   "execution_count": null,
   "id": "a5fa16d5",
   "metadata": {},
   "outputs": [],
   "source": [
    "d41I=data[45,100:]\n",
    "d41Q=data[46,100:]\n",
    "d41I=d41I[d41I<np.max(d41I)]\n",
    "d41Q=d41Q[d41Q<np.max(d41Q)]\n",
    "f, Si1 = signal.welch( d41I, fs=512e6/2**20, nperseg=256)\n",
    "f, Sq1 = signal.welch( d41Q, fs=512e6/2**20, nperseg=256)\n",
    "#phi1 = ( Si1 + Sq1)/(np.mean(d41I)**2 + np.mean(d41Q)**2)/2.\n",
    "#phi2 = ( Si1 + Sq1)/(np.mean(d41I)**2 + np.mean(d41Q)**2)/2.\n",
    "#phi10a = ( Si1 + Sq1)/(np.mean(d41I)**2 + np.mean(d41Q)**2)/2.\n",
    "#phi100 = ( Si1 + Sq1)/(np.mean(d41I)**2 + np.mean(d41Q)**2)/2.\n",
    "#phi500 = ( Si1 + Sq1)/(np.mean(d41I)**2 + np.mean(d41Q)**2)/2.\n",
    "phi1000 = ( Si1 + Sq1)/(np.mean(d41I)**2 + np.mean(d41Q)**2)/2.\n",
    "plt.semilogx(f,10*np.log10(phi1000),label='Phil Noise')\n",
    "plt.show()"
   ]
  },
  {
   "cell_type": "code",
   "execution_count": null,
   "id": "3389c7ff",
   "metadata": {},
   "outputs": [],
   "source": [
    "def saveToDirfile(subfolder, start_chan, end_chan, time_interval):\n",
    "    d = gd.dirfile(filename,gd.CREAT|gd.RDWR|gd.UNENCODED)\n",
    "    for chan in range(chan_start,chan_stop+1):\n",
    "        d.add_spec('I_' + str(chan) + ' RAW FLOAT64 1')\n",
    "        d.add_spec('Q_' + str(chan) + ' RAW FLOAT64 1')"
   ]
  },
  {
   "cell_type": "code",
   "execution_count": null,
   "id": "7522d743",
   "metadata": {},
   "outputs": [],
   "source": []
  },
  {
   "cell_type": "code",
   "execution_count": null,
   "id": "14736fdf",
   "metadata": {},
   "outputs": [],
   "source": []
  },
  {
   "cell_type": "code",
   "execution_count": null,
   "id": "f7e177db",
   "metadata": {},
   "outputs": [],
   "source": []
  },
  {
   "cell_type": "code",
   "execution_count": null,
   "id": "6991c81f",
   "metadata": {},
   "outputs": [],
   "source": [
    "plt.figure(figsize=(12,7))\n",
    "plt.semilogx(f,10*np.log10(phi1),\"+-\",label='1-tone')\n",
    "plt.semilogx(f,10*np.log10(phi2),\"+-\",label='2-tone')\n",
    "plt.semilogx(f,10*np.log10(phi10),\"+-\",label='10-tone')\n",
    "plt.semilogx(f,10*np.log10(phi100),\"+-\",label='100-tone')\n",
    "plt.semilogx(f,10*np.log10(phi500)-4,\"+-\",label='500-tone')\n",
    "plt.semilogx(f,10*np.log10(phi1000)-4,\"+-\",label='1000-tone')\n",
    "plt.legend()\n",
    "plt.ylabel(\"Phase Noise [dBc/Hz]\",fontsize=16); plt.xlabel(\"freq.\",fontsize=14)\n",
    "plt.ylim(-120,-80)\n",
    "plt.savefig(\"multitone-fake-modified-Phasenoise-plots.png\")\n",
    "plt.grid()\n",
    "plt.show()"
   ]
  },
  {
   "cell_type": "markdown",
   "id": "159159d0",
   "metadata": {},
   "source": [
    "# Timing Characterization"
   ]
  },
  {
   "cell_type": "code",
   "execution_count": null,
   "id": "99b86b55",
   "metadata": {},
   "outputs": [],
   "source": [
    "# Repeatedly run this code block to see the status of the pmods. Note: this should be instant, if this block hangs, the network config may\n",
    "# have erroneously changed or something mysterious has happened. \n",
    "for i in range(24):\n",
    "    \n",
    "    print(bin(get_timestamp(data[0])[4]))"
   ]
  },
  {
   "cell_type": "code",
   "execution_count": null,
   "id": "fe1f2549",
   "metadata": {},
   "outputs": [],
   "source": []
  },
  {
   "cell_type": "code",
   "execution_count": null,
   "id": "cdf62647",
   "metadata": {},
   "outputs": [],
   "source": [
    "data = parse_packet_wtime()\n",
    "print(bin(get_timestamp(data[0])[4]))"
   ]
  },
  {
   "cell_type": "code",
   "execution_count": null,
   "id": "ef36d9f1",
   "metadata": {},
   "outputs": [],
   "source": [
    "data = parse_packet()\n",
    "I, Q = data[0::2][0:1024], data[1::2][0:1024]\n",
    "print(\"Total = {} bytes in length\".format(len(I)*4 + len(Q)*4))"
   ]
  },
  {
   "cell_type": "code",
   "execution_count": null,
   "id": "b911b434",
   "metadata": {},
   "outputs": [],
   "source": [
    "ts, spec = parse_packet_wtime()\n",
    "pps = get_timestamp(ts)[2]\n",
    "pcount = get_timestamp(ts)[1]\n",
    "print(\"pps:   {} \\t\\t-> {}\".format(pps, bin(pps)))\n",
    "print(\"pcount:{} \\t-> {}\".format(pcount, bin(pcount)))"
   ]
  },
  {
   "cell_type": "code",
   "execution_count": null,
   "id": "3dcb2ec8",
   "metadata": {},
   "outputs": [],
   "source": []
  },
  {
   "cell_type": "code",
   "execution_count": null,
   "id": "afd5d0e6",
   "metadata": {},
   "outputs": [],
   "source": [
    "pktTable = []\n",
    "for i in range(14):\n",
    "    pktTable.append(parse_packet_wtime())"
   ]
  },
  {
   "cell_type": "code",
   "execution_count": null,
   "id": "59b716d3",
   "metadata": {},
   "outputs": [],
   "source": [
    "def getCounterData(N):\n",
    "    for i in range(N):\n",
    "        ts, spec = parse_packet_wtime()\n",
    "        pps = get_timestamp(ts)[2]\n",
    "        pcount = get_timestamp(ts)[1]\n",
    "        print(\"pps:   {} \\t\\t-> {}\".format(pps, bin(pps)))\n",
    "        print(\"scount:{} \\t-> {}\".format(pcount, bin(pcount)))\n",
    "        \n",
    "# 0b10111011010101\n",
    "# 0b10111011010111"
   ]
  },
  {
   "cell_type": "code",
   "execution_count": null,
   "id": "62b394f5",
   "metadata": {},
   "outputs": [],
   "source": [
    "getCounterData(14)"
   ]
  },
  {
   "cell_type": "code",
   "execution_count": null,
   "id": "d28952d0",
   "metadata": {},
   "outputs": [],
   "source": [
    "def parse_packet_into_bytes():\n",
    "  #for i in range(50):\n",
    "   # data = sock.recv(8208)\n",
    "  data = sock.recv(8208)\n",
    "  if len(data) <  8000:\n",
    "    print(\"invalid packet recieved\")\n",
    "#   print(len(data))\n",
    "  #spec_data = np.frombuffer(data, dtype = '<i')\n",
    "  return data # int32 data type"
   ]
  },
  {
   "cell_type": "code",
   "execution_count": null,
   "id": "7d98b66d",
   "metadata": {},
   "outputs": [],
   "source": [
    "data = parse_packet_into_bytes()\n",
    "# [-1] pmod - byte\n",
    "# [-3:-1] gpio - 2 bytes\n",
    "# [-7:-3] pcount (pps count) 4 bytes\n",
    "# [-11:-7] scount (packet count) 4 bytes\n",
    "# [-15:-11] fcount (fine count) 4 bytes"
   ]
  },
  {
   "cell_type": "code",
   "execution_count": null,
   "id": "5bc6bf7a",
   "metadata": {},
   "outputs": [],
   "source": [
    "for x in data[-4:-2]:\n",
    "    print(\"{}->{}\".format(hex(x), bin(x)))"
   ]
  },
  {
   "cell_type": "code",
   "execution_count": null,
   "id": "f035b852",
   "metadata": {},
   "outputs": [],
   "source": [
    "for _ in range(15):\n",
    "    data = parse_packet_into_bytes()\n",
    "    print(data[-16:].hex())"
   ]
  },
  {
   "cell_type": "code",
   "execution_count": null,
   "id": "b5f3d19b",
   "metadata": {},
   "outputs": [],
   "source": [
    "from struct import unpack\n",
    "print( unpack(\">I\",data[-11:-7]))"
   ]
  },
  {
   "cell_type": "code",
   "execution_count": null,
   "id": "1d218ed3",
   "metadata": {},
   "outputs": [],
   "source": [
    "val = []\n",
    "sock.recv(9000)\n",
    "for i in range(48):\n",
    "    parse_packet_into_bytes()\n",
    "for i in range(500):\n",
    "    data = parse_packet_into_bytes()\n",
    "#     print( unpack(\">I\",data[-15:-11]))\n",
    "    val.append(unpack(\">I\",data[-11:-7])[0])\n",
    "                  \n",
    "#     print(type(data[-1]))\n",
    "#     print(data[-1])\n",
    "    #val.append(data[-1])"
   ]
  },
  {
   "cell_type": "code",
   "execution_count": null,
   "id": "9a908b9d",
   "metadata": {},
   "outputs": [],
   "source": [
    "import matplotlib.pyplot as plt\n",
    "#Changed in version 0.25.0: If data is a list of dicts, column order follows insertion-order."
   ]
  },
  {
   "cell_type": "code",
   "execution_count": null,
   "id": "d1d6c919",
   "metadata": {},
   "outputs": [],
   "source": [
    "plt.plot(val[0:])\n",
    "plt.figure()\n",
    "plt.plot(np.diff(val)[0:])"
   ]
  },
  {
   "cell_type": "code",
   "execution_count": null,
   "id": "2bd11b0e",
   "metadata": {
    "tags": []
   },
   "outputs": [],
   "source": [
    "for ind,dat in enumerate(val[0:]):\n",
    "    print(f\"{bin(dat):32} {hex(dat):16} {val[ind]-val[ind-1]}\")\n"
   ]
  },
  {
   "cell_type": "code",
   "execution_count": null,
   "id": "3d85c68f",
   "metadata": {},
   "outputs": [],
   "source": [
    "sock.recv?"
   ]
  },
  {
   "cell_type": "code",
   "execution_count": null,
   "id": "3dad84fa",
   "metadata": {},
   "outputs": [],
   "source": [
    "def samplePPS():\n",
    "    from time import sleep\n",
    "    from struct import unpack\n",
    "    # Extract One Packet and seperate it all into seperate variables\n",
    "\n",
    "    while(1):\n",
    "        data = parse_packet_into_bytes()\n",
    "        pmod = data[-1]\n",
    "        gpio = data[-3:-1] # gpio - 2 bytes\n",
    "        pps = unpack('>I', data[-7:-3])[0] # pcount (pps count) 4 bytes\n",
    "        scount = unpack('>I', data[-11:-7])[0]# scount (packet count) 4 bytes\n",
    "        fcount =  unpack('>I',data[-15:-11])[0]# fcount (fine count) 4 bytes\n",
    "        spec_data = np.frombuffer(data, dtype = '<i')\n",
    "        Iraw, Qraw = spec_data[0::2][0:1024], spec_data[1::2][0:1024]\n",
    "\n",
    "        I, Q = np.array(Iraw).astype(float), np.array(Qraw).astype(float)\n",
    "        d = {'I': I, 'Q' : Q, 'PMOD':pmod, 'PKTCOUNT' : scount, 'FREECOUNT':fcount, \"PPS\" : pps}\n",
    "        df = pd.DataFrame(data=d)\n",
    "        print(df['PPS'][0])\n",
    "\n",
    "        sleep(1)"
   ]
  },
  {
   "cell_type": "code",
   "execution_count": null,
   "id": "f3da2aba",
   "metadata": {},
   "outputs": [],
   "source": [
    "samplePPS"
   ]
  },
  {
   "cell_type": "code",
   "execution_count": null,
   "id": "2a724df9",
   "metadata": {},
   "outputs": [],
   "source": [
    "def to_str(var):\n",
    "    return str(list(np.reshape(np.asarray(var), (1, np.size(var)))[0]))[1:-1]"
   ]
  },
  {
   "cell_type": "markdown",
   "id": "ecb3fab3",
   "metadata": {},
   "source": [
    "## Data Handling Segment\n"
   ]
  },
  {
   "cell_type": "code",
   "execution_count": null,
   "id": "93e76293",
   "metadata": {},
   "outputs": [],
   "source": [
    "# Extract One Packet and seperate it all into seperate variables\n",
    "\n",
    "data = parse_packet_into_bytes()\n",
    "pmod = data[-1]\n",
    "gpio = data[-3:-1] # gpio - 2 bytes\n",
    "pps = unpack('>I', data[-7:-3])[0] # pcount (pps count) 4 bytes\n",
    "scount = unpack('>I', data[-11:-7])[0]# scount (packet count) 4 bytes\n",
    "fcount =  unpack('>I',data[-15:-11])[0]# fcount (fine count) 4 bytes\n",
    "spec_data = np.frombuffer(data, dtype = '<I')\n",
    "Iraw, Qraw = spec_data[0::2][0:1024], spec_data[1::2][0:1024]\n",
    "\n",
    "hello = \"hello world\"\n",
    "\n",
    "I, Q = np.array(Iraw).astype(float), np.array(Qraw).astype(float)\n",
    "d = {'I': I, 'Q' : Q, 'PMOD':pmod, 'PKTCOUNT' : scount, 'FREECOUNT':fcount, \"PPS\" : pps}\n",
    "IQd =  {'I': I, 'Q' : Q}\n",
    "df = pd.DataFrame(data=d)\n",
    "IQdf = pd.DataFrame(data=IQd)\n",
    "df\n"
   ]
  },
  {
   "cell_type": "code",
   "execution_count": null,
   "id": "f5bec3a9",
   "metadata": {},
   "outputs": [],
   "source": [
    "def getNewPacketData():\n",
    "    data = parse_packet_into_bytes()\n",
    "    pmod = data[-1]\n",
    "    gpio = data[-3:-1] # gpio - 2 bytes\n",
    "    pps = unpack('>I', data[-7:-3])[0] # pcount (pps count) 4 bytes\n",
    "    scount = unpack('>I', data[-11:-7])[0]# scount (packet count) 4 bytes\n",
    "    fcount =  unpack('>I',data[-15:-11])[0]# fcount (fine count) 4 bytes\n",
    "    spec_data = np.frombuffer(data, dtype = '<I')\n",
    "    Iraw, Qraw = spec_data[0::2][0:1024], spec_data[1::2][0:1024]\n",
    "\n",
    "    I, Q = np.array(Iraw).astype(float), np.array(Qraw).astype(float)\n",
    "    d = {'I': I, 'Q' : Q, 'PMOD':pmod, 'PKTCOUNT' : scount, 'FREECOUNT':fcount, \"PPS\" : pps}\n",
    "    #timestamp = {'PMOD':pmod, 'PKTCOUNT' : scount, 'FREECOUNT':fcount, \"PPS\" : pps}\n",
    "    #timestampDF = pd.DataFrame(data=timestamp).to_numpy()\n",
    "    IQd =  {'I': I, 'Q' : Q}\n",
    "    df = pd.DataFrame(data=d).to_numpy()\n",
    "    IQdf = pd.DataFrame(data=IQd).to_numpy()\n",
    "    return df"
   ]
  },
  {
   "cell_type": "code",
   "execution_count": null,
   "id": "e1969c8a",
   "metadata": {},
   "outputs": [],
   "source": [
    "helpme = getNewPacketData()\n",
    "#print(katdata[0])\n",
    "iq = helpme[:, 0:2]\n",
    "ts = helpme[:, 2:6]\n",
    "#print(helpme)\n",
    "#print(\"IQ: \", iq)\n",
    "#print(\"Timestamp: \", ts)\n",
    "#print(iq.shape)\n",
    "#concat = np.concatenate((ts[0:0],iq[0,:]), axis=0)\n",
    "print(ts[0])\n",
    "one_ts = ts[0]\n",
    "#print(one_ts)\n",
    "#print(one_ts.shape) \n",
    "int(\"\".join(map(str, one_ts)))\n",
    "\n",
    "list_str = (one_ts)\n",
    "list = [list_str, iq]\n",
    "print(list_str)\n",
    "#print(list)\n",
    "#np.savetxt('ts.txt', list, fmt='%d', header='')\n",
    "#ts_and_i = np.insert(arr=iq, obj = slice, values=one_ts, axis=0)"
   ]
  },
  {
   "cell_type": "code",
   "execution_count": null,
   "id": "01ecb163",
   "metadata": {},
   "outputs": [],
   "source": [
    "np.savetxt('makesmesad.txt', IQdf, fmt='%d', header=text_header)"
   ]
  },
  {
   "cell_type": "code",
   "execution_count": null,
   "id": "7974e922",
   "metadata": {},
   "outputs": [],
   "source": [
    "#helpme = getNewPacketData()\n",
    "#np.savetxt('makesmesad.txt', IQdf, fmt='%d', header=text_header)\n",
    "for x in range(2):\n",
    "    #katdata = getNewPacketData()\n",
    "    helpme = getNewPacketData()\n",
    "    iq = helpme[:, 0:2]\n",
    "    print(x)\n",
    "    print(iq)\n",
    "    if x == 0:\n",
    "        np.savetxt('makesmesad.txt', iq, fmt='%d', header=text_header)\n",
    "        print(\"first IQ data at x =0: \", iq[0])\n",
    "    if x >= 1:\n",
    "        for i in range(2):\n",
    "            dataset = np.genfromtxt('makesmesad.txt')\n",
    "            d = iq[:,i]\n",
    "            d = np.reshape(d, (dataset.shape[0],1))   # adjust dimension of the new array\n",
    "            result = np.append(dataset, d, 1)         # append as last column\n",
    "            print(result.shape)\n",
    "            list = np.array([[44,55,10]])\n",
    "            print(list.shape)\n",
    "            #result2 = np.append(result, np.array([[44,55,10]]), axis=0)\n",
    "            np.savetxt('makesmesad.txt', result, delimiter=\" \", header='i and q data', fmt=\"%s\")"
   ]
  },
  {
   "cell_type": "code",
   "execution_count": null,
   "id": "c4c69bd4",
   "metadata": {},
   "outputs": [],
   "source": [
    "for i in range(3):\n",
    "    katdata = getNewPacketData()\n",
    "    print(katdata)"
   ]
  },
  {
   "cell_type": "code",
   "execution_count": null,
   "id": "2d319d3c",
   "metadata": {
    "tags": []
   },
   "outputs": [],
   "source": [
    "NUMPKTS = 10\n",
    "for i in range(NUMPKTS):\n",
    "    data = parse_packet_into_bytes()\n",
    "    pmod = data[-1]\n",
    "    gpio = data[-3:-1] # gpio - 2 bytes\n",
    "    pps = unpack('>I', data[-7:-3])[0] # pcount (pps count) 4 bytes\n",
    "    scount = unpack('>I', data[-11:-7])[0]# scount (packet count) 4 bytes\n",
    "    fcount =  unpack('>I',data[-15:-11])[0]# fcount (fine count) 4 bytes\n",
    "    spec_data = np.frombuffer(data, dtype = '<I')\n",
    "    Iraw, Qraw = spec_data[0::2][0:1024], spec_data[1::2][0:1024]\n",
    "\n",
    "    I, Q = np.array(Iraw).astype(float), np.array(Qraw).astype(float)\n",
    "    d = {'I': I, 'Q' : Q, 'PMOD':pmod, 'PKTCOUNT' : scount, 'FREECOUNT':fcount, \"PPS\" : pps}\n",
    "    IQd =  {'I': I, 'Q' : Q}\n",
    "    df = pd.DataFrame(data=d)\n",
    "    IQdf = pd.DataFrame(data=IQd)\n",
    "    df\n",
    "    print(i)"
   ]
  },
  {
   "cell_type": "code",
   "execution_count": null,
   "id": "4d075923",
   "metadata": {},
   "outputs": [],
   "source": [
    "header4 = df['PPS'][0]\n",
    "header1 = df['PMOD'][0]\n",
    "header2 = df['PKTCOUNT'][0]\n",
    "header3 = df['FREECOUNT'][0]\n",
    "headerD = to_str(header4)\n",
    "headerA =  to_str(header1)\n",
    "headerB =  to_str(header2)\n",
    "headerC =  to_str(header3)\n",
    "\n",
    "text_header=headerA + headerB + headerC + headerD\n",
    "print(text_header)\n",
    "\n",
    "file_name = 'makesmesad.txt'\n",
    "\n",
    "np.savetxt(file_name, IQdf.values, fmt='%d', header=text_header)\n",
    "df.to_csv(r'pandas.csv', header=text_header, index=None, sep=' ', mode='a')"
   ]
  },
  {
   "cell_type": "code",
   "execution_count": null,
   "id": "1eade614",
   "metadata": {},
   "outputs": [],
   "source": [
    "np.savetxt('makesmesad.txt', IQdf, fmt='%d', header=text_header)\n",
    "np.savetxt('test2.txt', IQdf, fmt='%d', header=text_header)"
   ]
  },
  {
   "cell_type": "code",
   "execution_count": null,
   "id": "6549f749",
   "metadata": {},
   "outputs": [],
   "source": [
    "for i in range(2):\n",
    "    dataset = np.genfromtxt('makesmesad.txt')\n",
    "    d = np.genfromtxt('test2.txt')\n",
    "    print(type(d))\n",
    "    dd = 1*dataset[:,i]\n",
    "    #d = 1*dataset[:,i]\n",
    "    print(d)\n",
    "    dd = np.reshape(dd, (dataset.shape[0],1))   # adjust dimension of the new array\n",
    "    result = np.append(dataset, dd, 1)         # append as last column\n",
    "    np.savetxt('makesmesad.txt', result, delimiter=\" \", header='i and q data', fmt=\"%s\")"
   ]
  },
  {
   "cell_type": "code",
   "execution_count": null,
   "id": "aa14ebce",
   "metadata": {},
   "outputs": [],
   "source": []
  }
 ],
 "metadata": {
  "kernelspec": {
   "display_name": "Python 3 (ipykernel)",
   "language": "python",
   "name": "python3"
  },
  "language_info": {
   "codemirror_mode": {
    "name": "ipython",
    "version": 3
   },
   "file_extension": ".py",
   "mimetype": "text/x-python",
   "name": "python",
   "nbconvert_exporter": "python",
   "pygments_lexer": "ipython3",
   "version": "3.10.4"
  }
 },
 "nbformat": 4,
 "nbformat_minor": 5
}
